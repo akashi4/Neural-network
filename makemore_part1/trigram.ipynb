{
 "cells": [
  {
   "cell_type": "code",
   "execution_count": 161,
   "metadata": {},
   "outputs": [],
   "source": [
    "import torch"
   ]
  },
  {
   "cell_type": "code",
   "execution_count": 162,
   "metadata": {},
   "outputs": [
    {
     "data": {
      "text/plain": [
       "['emma', 'olivia', 'ava', 'isabella']"
      ]
     },
     "execution_count": 162,
     "metadata": {},
     "output_type": "execute_result"
    }
   ],
   "source": [
    "words = open('names.txt', 'r').read().splitlines()\n",
    "words[:4]"
   ]
  },
  {
   "cell_type": "code",
   "execution_count": 163,
   "metadata": {},
   "outputs": [
    {
     "name": "stdout",
     "output_type": "stream",
     "text": [
      ". e m\n",
      "e m m\n",
      "m m a\n",
      "m a .\n",
      ". o l\n",
      "o l i\n",
      "l i v\n",
      "i v i\n",
      "v i a\n",
      "i a .\n",
      ". a v\n",
      "a v a\n",
      "v a .\n"
     ]
    }
   ],
   "source": [
    "for word in words[:3]:\n",
    "    chs = ['.'] + list(word) + ['.']\n",
    "    for ch1, ch2, ch3 in zip(chs, chs[1:], chs[2:]):\n",
    "        print(ch1, ch2, ch3)"
   ]
  },
  {
   "cell_type": "code",
   "execution_count": 164,
   "metadata": {},
   "outputs": [
    {
     "data": {
      "text/plain": [
       "({'a': 1,\n",
       "  'b': 2,\n",
       "  'c': 3,\n",
       "  'd': 4,\n",
       "  'e': 5,\n",
       "  'f': 6,\n",
       "  'g': 7,\n",
       "  'h': 8,\n",
       "  'i': 9,\n",
       "  'j': 10,\n",
       "  'k': 11,\n",
       "  'l': 12,\n",
       "  'm': 13,\n",
       "  'n': 14,\n",
       "  'o': 15,\n",
       "  'p': 16,\n",
       "  'q': 17,\n",
       "  'r': 18,\n",
       "  's': 19,\n",
       "  't': 20,\n",
       "  'u': 21,\n",
       "  'v': 22,\n",
       "  'w': 23,\n",
       "  'x': 24,\n",
       "  'y': 25,\n",
       "  'z': 26,\n",
       "  '.': 0},\n",
       " {1: 'a',\n",
       "  2: 'b',\n",
       "  3: 'c',\n",
       "  4: 'd',\n",
       "  5: 'e',\n",
       "  6: 'f',\n",
       "  7: 'g',\n",
       "  8: 'h',\n",
       "  9: 'i',\n",
       "  10: 'j',\n",
       "  11: 'k',\n",
       "  12: 'l',\n",
       "  13: 'm',\n",
       "  14: 'n',\n",
       "  15: 'o',\n",
       "  16: 'p',\n",
       "  17: 'q',\n",
       "  18: 'r',\n",
       "  19: 's',\n",
       "  20: 't',\n",
       "  21: 'u',\n",
       "  22: 'v',\n",
       "  23: 'w',\n",
       "  24: 'x',\n",
       "  25: 'y',\n",
       "  26: 'z',\n",
       "  0: '.'})"
      ]
     },
     "execution_count": 164,
     "metadata": {},
     "output_type": "execute_result"
    }
   ],
   "source": [
    "characters = sorted(list(set(''.join(words))))\n",
    "stoi = {s: i+1 for i, s in enumerate(characters)}\n",
    "stoi[\".\"] = 0\n",
    "itos = {i: s for s, i in stoi.items()}\n",
    "stoi, itos"
   ]
  },
  {
   "cell_type": "code",
   "execution_count": 165,
   "metadata": {},
   "outputs": [],
   "source": [
    "N = torch.zeros((27, 27, 27), dtype=torch.int32)"
   ]
  },
  {
   "cell_type": "code",
   "execution_count": 166,
   "metadata": {},
   "outputs": [
    {
     "data": {
      "text/plain": [
       "tensor([[[  0,   0,   0,  ...,   0,   0,   0],\n",
       "         [  0, 207, 190,  ...,  27, 173, 152],\n",
       "         [  0, 169,   0,  ...,   0,   4,   0],\n",
       "         ...,\n",
       "         [  0,  57,   0,  ...,   1,  17,  11],\n",
       "         [  0, 246,   0,  ...,   0,   0,   2],\n",
       "         [  0, 456,   0,  ...,   0,  91,   1]],\n",
       "\n",
       "        [[  0,   0,   0,  ...,   0,   0,   0],\n",
       "         [ 40,   0,   5,  ...,   0,  20,  11],\n",
       "         [ 36,  28,  20,  ...,   0,  12,   0],\n",
       "         ...,\n",
       "         [ 11,   5,   0,  ...,  17,   6,   3],\n",
       "         [163, 389,  13,  ...,   0,  16,  40],\n",
       "         [ 38, 123,   0,  ...,   0,  12,  22]],\n",
       "\n",
       "        [[  0,   0,   0,  ...,   0,   0,   0],\n",
       "         [ 46,   5,   5,  ...,   4,  31,   4],\n",
       "         [  1,   8,   0,  ...,   0,   9,   0],\n",
       "         ...,\n",
       "         [  0,   0,   0,  ...,   0,   0,   0],\n",
       "         [ 55,   4,   1,  ...,   0,   0,   0],\n",
       "         [  0,   0,   0,  ...,   0,   0,   0]],\n",
       "\n",
       "        ...,\n",
       "\n",
       "        [[  0,   0,   0,  ...,   0,   0,   0],\n",
       "         [ 10,   0,   2,  ...,   0,  10,   0],\n",
       "         [  0,   0,   0,  ...,   0,   1,   0],\n",
       "         ...,\n",
       "         [ 18,   3,   0,  ...,   0,   1,   0],\n",
       "         [  5,   4,   0,  ...,   0,   0,   0],\n",
       "         [  0,  16,   0,  ...,   0,   0,   0]],\n",
       "\n",
       "        [[  0,   0,   0,  ...,   0,   0,   0],\n",
       "         [716,  46,  10,  ...,   3,   6,  21],\n",
       "         [  2,   2,   0,  ...,   0,   0,   0],\n",
       "         ...,\n",
       "         [ 23,   1,   0,  ...,   1,   0,   0],\n",
       "         [  1,  18,   0,  ...,   0,   0,   0],\n",
       "         [  2,  27,   0,  ...,   1,   0,   0]],\n",
       "\n",
       "        [[  0,   0,   0,  ...,   0,   0,   0],\n",
       "         [ 98,  14,  40,  ...,   3,  97,   3],\n",
       "         [  0,   0,   0,  ...,   0,   0,   0],\n",
       "         ...,\n",
       "         [  1,   0,   0,  ...,   0,   0,   0],\n",
       "         [ 34,  27,   0,  ...,   0,   0,   1],\n",
       "         [  4,  13,   0,  ...,   0,   7,   0]]], dtype=torch.int32)"
      ]
     },
     "execution_count": 166,
     "metadata": {},
     "output_type": "execute_result"
    }
   ],
   "source": [
    "for word in words:\n",
    "    chs = ['.'] + list(word) + ['.']\n",
    "    for ch1, ch2, ch3 in zip(chs, chs[1:], chs[2:]):\n",
    "        idx1 = stoi[ch1]\n",
    "        idx2 = stoi[ch2]\n",
    "        idx3 = stoi[ch3]\n",
    "        N[idx1, idx2, idx3] += 1\n",
    "N"
   ]
  },
  {
   "cell_type": "code",
   "execution_count": 167,
   "metadata": {},
   "outputs": [
    {
     "data": {
      "text/plain": [
       "tensor([0.0370, 0.0370, 0.0370, 0.0370, 0.0370, 0.0370, 0.0370, 0.0370, 0.0370,\n",
       "        0.0370, 0.0370, 0.0370, 0.0370, 0.0370, 0.0370, 0.0370, 0.0370, 0.0370,\n",
       "        0.0370, 0.0370, 0.0370, 0.0370, 0.0370, 0.0370, 0.0370, 0.0370, 0.0370])"
      ]
     },
     "execution_count": 167,
     "metadata": {},
     "output_type": "execute_result"
    }
   ],
   "source": [
    "g = torch.Generator().manual_seed(42)\n",
    "P = (N+1).float()\n",
    "P /= P.sum(2, keepdim=True)\n",
    "P[0, 0]"
   ]
  },
  {
   "cell_type": "code",
   "execution_count": 168,
   "metadata": {},
   "outputs": [
    {
     "data": {
      "text/plain": [
       "['y', 'l', '.', 'm']"
      ]
     },
     "execution_count": 168,
     "metadata": {},
     "output_type": "execute_result"
    }
   ],
   "source": [
    "ex_idx = torch.multinomial(P[1, 1], 4, generator=g)\n",
    "selection = [itos[i.item()] for i in ex_idx]\n",
    "selection"
   ]
  },
  {
   "cell_type": "code",
   "execution_count": 169,
   "metadata": {},
   "outputs": [
    {
     "name": "stdout",
     "output_type": "stream",
     "text": [
      ".wesmahle.\n",
      ".man.\n",
      ".roxgkthmang.\n",
      ".kyn.\n",
      ".layahd.\n",
      ".neen.\n",
      ".ana.\n",
      ".na.\n",
      ".brii.\n",
      ".yah.\n"
     ]
    }
   ],
   "source": [
    "\n",
    "for i in range(10):\n",
    "    out = []\n",
    "    ix1 = 0\n",
    "    ix2 = torch.randint(0, 27, (1,), generator=g).item()\n",
    "    out.extend([ix1, ix2])\n",
    "    while True:\n",
    "        index = torch.multinomial(\n",
    "            P[ix1, ix2], num_samples=1, replacement=True, generator=g).item()\n",
    "        out.append(index)\n",
    "        if index == 0:\n",
    "            break\n",
    "        ix1 = ix2\n",
    "        ix2 = index\n",
    "    # print(out)\n",
    "    name = [itos[i] for i in out]\n",
    "    print(''.join(name))"
   ]
  },
  {
   "cell_type": "code",
   "execution_count": 170,
   "metadata": {},
   "outputs": [
    {
     "name": "stdout",
     "output_type": "stream",
     "text": [
      "tensor(-410414.9688)\n",
      "196113\n",
      "tensor(2.0927)\n"
     ]
    }
   ],
   "source": [
    "# computiing the overall likelihood of the dataset\n",
    "log_likelihood = 0.0\n",
    "n = 0\n",
    "\n",
    "for word in words:\n",
    "    chs = \".\" + word+\".\"\n",
    "    for ch1, ch2, ch3 in zip(chs, chs[1:], chs[2:]):\n",
    "        idx1, idx2, idx3 = stoi[ch1], stoi[ch2], stoi[ch3]\n",
    "        log_prob = torch.log(P[idx1, idx2, idx3])\n",
    "        log_likelihood += log_prob\n",
    "        n += 1\n",
    "\n",
    "print(log_likelihood)\n",
    "print(n)\n",
    "print(-log_likelihood/n)"
   ]
  },
  {
   "cell_type": "markdown",
   "metadata": {},
   "source": [
    "### neuralnet"
   ]
  },
  {
   "cell_type": "code",
   "execution_count": 171,
   "metadata": {},
   "outputs": [
    {
     "data": {
      "text/plain": [
       "tensor([0.0002, 0.0469, 0.0430, 0.0072, 0.0827, 0.0126, 0.0050, 0.0041, 0.0207,\n",
       "        0.0349, 0.0063, 0.0171, 0.1427, 0.0868, 0.1406, 0.0025, 0.0041, 0.0023,\n",
       "        0.1089, 0.0439, 0.0165, 0.0345, 0.0550, 0.0016, 0.0063, 0.0392, 0.0345])"
      ]
     },
     "execution_count": 171,
     "metadata": {},
     "output_type": "execute_result"
    }
   ],
   "source": [
    "# exemple of probabilities of next letters for the character 0(.) and 1(a)\n",
    "P[0, 1]"
   ]
  },
  {
   "cell_type": "code",
   "execution_count": 172,
   "metadata": {},
   "outputs": [
    {
     "data": {
      "text/plain": [
       "tensor([[ 0,  5],\n",
       "        [ 5, 13],\n",
       "        [13, 13],\n",
       "        [ 0, 15],\n",
       "        [15, 12],\n",
       "        [12,  9],\n",
       "        [ 9, 22],\n",
       "        [22,  9]])"
      ]
     },
     "execution_count": 172,
     "metadata": {},
     "output_type": "execute_result"
    }
   ],
   "source": [
    "xs, ys = [], []\n",
    "\n",
    "for word in words[:2]:\n",
    "    chs = '.' + word + '.'\n",
    "    for ch1, ch2, ch3 in zip(chs, chs[1:], chs[3:]):\n",
    "        idx1, idx2, idx3 = stoi[ch1], stoi[ch2], stoi[ch3]\n",
    "        xs.append([idx1, idx2])\n",
    "        ys.append(idx3)\n",
    "\n",
    "\n",
    "xs, ys = torch.tensor(xs), torch.tensor(ys)\n",
    "num = xs.nelement()\n",
    "W = torch.rand((27*2, 27), generator=g, requires_grad=True)\n",
    "ys.shape[0]\n",
    "xs"
   ]
  },
  {
   "cell_type": "code",
   "execution_count": 173,
   "metadata": {},
   "outputs": [
    {
     "name": "stdout",
     "output_type": "stream",
     "text": [
      "torch.Size([8, 2, 27])\n"
     ]
    },
    {
     "ename": "RuntimeError",
     "evalue": "mat1 and mat2 shapes cannot be multiplied (16x27 and 54x27)",
     "output_type": "error",
     "traceback": [
      "\u001b[0;31m---------------------------------------------------------------------------\u001b[0m",
      "\u001b[0;31mRuntimeError\u001b[0m                              Traceback (most recent call last)",
      "Cell \u001b[0;32mIn[173], line 5\u001b[0m\n\u001b[1;32m      3\u001b[0m xenc \u001b[38;5;241m=\u001b[39m F\u001b[38;5;241m.\u001b[39mone_hot(xs, num_classes\u001b[38;5;241m=\u001b[39m\u001b[38;5;241m27\u001b[39m)\u001b[38;5;241m.\u001b[39mfloat()\n\u001b[1;32m      4\u001b[0m \u001b[38;5;28mprint\u001b[39m(xenc\u001b[38;5;241m.\u001b[39mshape)\n\u001b[0;32m----> 5\u001b[0m logits \u001b[38;5;241m=\u001b[39m \u001b[43mxenc\u001b[49m\u001b[38;5;129;43m@W\u001b[39;49m\n\u001b[1;32m      6\u001b[0m counts \u001b[38;5;241m=\u001b[39m torch\u001b[38;5;241m.\u001b[39mexp(logits)\n\u001b[1;32m      7\u001b[0m probs \u001b[38;5;241m=\u001b[39m counts\u001b[38;5;241m/\u001b[39mcounts\u001b[38;5;241m.\u001b[39msum(dim\u001b[38;5;241m=\u001b[39m\u001b[38;5;241m2\u001b[39m, keepdim\u001b[38;5;241m=\u001b[39m\u001b[38;5;28;01mTrue\u001b[39;00m)\n",
      "\u001b[0;31mRuntimeError\u001b[0m: mat1 and mat2 shapes cannot be multiplied (16x27 and 54x27)"
     ]
    }
   ],
   "source": [
    "from torch.nn import functional as F\n",
    "for i in range(10):\n",
    "    xenc = F.one_hot(xs, num_classes=27).float()\n",
    "    print(xenc.shape)\n",
    "    logits = xenc@W\n",
    "    counts = torch.exp(logits)\n",
    "    probs = counts/counts.sum(dim=2, keepdim=True)\n",
    "    break\n",
    "    loss = -probs[torch.arange(num), torch.arange(num), ys]"
   ]
  }
 ],
 "metadata": {
  "kernelspec": {
   "display_name": "ml",
   "language": "python",
   "name": "python3"
  },
  "language_info": {
   "codemirror_mode": {
    "name": "ipython",
    "version": 3
   },
   "file_extension": ".py",
   "mimetype": "text/x-python",
   "name": "python",
   "nbconvert_exporter": "python",
   "pygments_lexer": "ipython3",
   "version": "3.12.2"
  }
 },
 "nbformat": 4,
 "nbformat_minor": 2
}
