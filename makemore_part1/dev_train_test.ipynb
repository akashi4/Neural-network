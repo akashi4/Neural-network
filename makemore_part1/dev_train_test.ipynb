{
 "cells": [
  {
   "cell_type": "markdown",
   "metadata": {},
   "source": [
    "## Exercise 2: Train, Test,"
   ]
  },
  {
   "cell_type": "code",
   "execution_count": 1,
   "metadata": {},
   "outputs": [],
   "source": [
    "import torch\n",
    "import random\n",
    "from torch.nn import functional as F"
   ]
  },
  {
   "cell_type": "code",
   "execution_count": null,
   "metadata": {},
   "outputs": [],
   "source": [
    "words = open('../names.txt').read().splitlines()"
   ]
  },
  {
   "cell_type": "code",
   "execution_count": 3,
   "metadata": {},
   "outputs": [
    {
     "data": {
      "text/plain": [
       "({'a': 1,\n",
       "  'b': 2,\n",
       "  'c': 3,\n",
       "  'd': 4,\n",
       "  'e': 5,\n",
       "  'f': 6,\n",
       "  'g': 7,\n",
       "  'h': 8,\n",
       "  'i': 9,\n",
       "  'j': 10,\n",
       "  'k': 11,\n",
       "  'l': 12,\n",
       "  'm': 13,\n",
       "  'n': 14,\n",
       "  'o': 15,\n",
       "  'p': 16,\n",
       "  'q': 17,\n",
       "  'r': 18,\n",
       "  's': 19,\n",
       "  't': 20,\n",
       "  'u': 21,\n",
       "  'v': 22,\n",
       "  'w': 23,\n",
       "  'x': 24,\n",
       "  'y': 25,\n",
       "  'z': 26,\n",
       "  '.': 0},\n",
       " {1: 'a',\n",
       "  2: 'b',\n",
       "  3: 'c',\n",
       "  4: 'd',\n",
       "  5: 'e',\n",
       "  6: 'f',\n",
       "  7: 'g',\n",
       "  8: 'h',\n",
       "  9: 'i',\n",
       "  10: 'j',\n",
       "  11: 'k',\n",
       "  12: 'l',\n",
       "  13: 'm',\n",
       "  14: 'n',\n",
       "  15: 'o',\n",
       "  16: 'p',\n",
       "  17: 'q',\n",
       "  18: 'r',\n",
       "  19: 's',\n",
       "  20: 't',\n",
       "  21: 'u',\n",
       "  22: 'v',\n",
       "  23: 'w',\n",
       "  24: 'x',\n",
       "  25: 'y',\n",
       "  26: 'z',\n",
       "  0: '.'})"
      ]
     },
     "execution_count": 3,
     "metadata": {},
     "output_type": "execute_result"
    }
   ],
   "source": [
    "characters = sorted(list(set(''.join(words))))\n",
    "stoi = {s: i+1 for i, s in enumerate(characters)}\n",
    "stoi[\".\"] = 0\n",
    "itos = {i: s for s, i in stoi.items()}\n",
    "stoi, itos"
   ]
  },
  {
   "cell_type": "code",
   "execution_count": 4,
   "metadata": {},
   "outputs": [
    {
     "data": {
      "text/plain": [
       "True"
      ]
     },
     "execution_count": 4,
     "metadata": {},
     "output_type": "execute_result"
    }
   ],
   "source": [
    "\n",
    "random.shuffle(words)\n",
    "num = len(words)\n",
    "train, dev, test = words[:int(\n",
    "    0.8*num)], words[int(0.8*num):int(0.9*num)], words[int(0.9*num):]\n",
    "len(train) + len(dev) + len(test) == num"
   ]
  },
  {
   "cell_type": "code",
   "execution_count": 5,
   "metadata": {},
   "outputs": [],
   "source": [
    "N = torch.zeros(27, 27, 27, dtype=torch.int32)\n",
    "g = torch.Generator().manual_seed(42)\n",
    "\n",
    "for word in train:\n",
    "    chs = ['.'] + list(word) + ['.']\n",
    "    for ch1, ch2, ch3 in zip(chs, chs[1:], chs[2:]):\n",
    "        idx1 = stoi[ch1]\n",
    "        idx2 = stoi[ch2]\n",
    "        idx3 = stoi[ch3]\n",
    "        N[idx1, idx2, idx3] += 1"
   ]
  },
  {
   "cell_type": "code",
   "execution_count": 6,
   "metadata": {},
   "outputs": [
    {
     "data": {
      "text/plain": [
       "(torch.Size([131143, 2]), torch.Size([131143]))"
      ]
     },
     "execution_count": 6,
     "metadata": {},
     "output_type": "execute_result"
    }
   ],
   "source": [
    "xs, ys = [], []\n",
    "\n",
    "for word in train:\n",
    "    chs = '.' + word + '.'\n",
    "    for ch1, ch2, ch3 in zip(chs, chs[1:], chs[3:]):\n",
    "        idx1, idx2, idx3 = stoi[ch1], stoi[ch2], stoi[ch3]\n",
    "        xs.append([idx1, idx2])\n",
    "        ys.append(idx3)\n",
    "\n",
    "\n",
    "xs, ys = torch.tensor(xs), torch.tensor(ys)\n",
    "# num = ys.shape[0]\n",
    "W = torch.rand((27*2, 27), generator=g, requires_grad=True)\n",
    "xs.shape, ys.shape"
   ]
  },
  {
   "cell_type": "code",
   "execution_count": 7,
   "metadata": {},
   "outputs": [
    {
     "name": "stdout",
     "output_type": "stream",
     "text": [
      "step : 0  loss : 3.376685619354248\n",
      "step : 100  loss : 2.393401622772217\n",
      "step : 200  loss : 2.3531460762023926\n",
      "step : 300  loss : 2.3169102668762207\n",
      "step : 400  loss : 2.281663656234741\n",
      "step : 500  loss : 2.2468087673187256\n",
      "step : 600  loss : 2.212146520614624\n",
      "step : 700  loss : 2.177593469619751\n",
      "step : 800  loss : 2.1431078910827637\n",
      "step : 900  loss : 2.108666181564331\n",
      "step : 1000  loss : 2.0742554664611816\n"
     ]
    }
   ],
   "source": [
    "n = 1000\n",
    "for i in range(n+1):\n",
    "    xenc = F.one_hot(xs, num_classes=27).float()\n",
    "    logits = xenc.view(-1, 2*27) @ W\n",
    "    counts = torch.exp(logits)\n",
    "    # print(counts.shape)\n",
    "    probs = counts/counts.sum(dim=1, keepdim=True)\n",
    "    loss = -probs[torch.arange(ys.shape[0]), ys].log().mean() - 0.1 * W.mean()\n",
    "\n",
    "    if i % 100 == 0 or i == 0 or i == n:\n",
    "        print(f\"step : {i}  loss : {loss.item()}\")\n",
    "\n",
    "    W.grad = None\n",
    "    loss.backward()\n",
    "\n",
    "    W.data += -50 * W.grad"
   ]
  },
  {
   "cell_type": "code",
   "execution_count": 8,
   "metadata": {},
   "outputs": [],
   "source": [
    "def prepare_data(words: list[str], stoi: dict) -> torch.tensor:\n",
    "    xs, ys = [], []\n",
    "    for word in words:\n",
    "        chs = '.' + word + '.'\n",
    "        for ch1, ch2, ch3 in zip(chs, chs[1:], chs[3:]):\n",
    "            idx1, idx2, idx3 = stoi[ch1], stoi[ch2], stoi[ch3]\n",
    "            xs.append([idx1, idx2])\n",
    "            ys.append(idx3)\n",
    "    return torch.tensor(xs), torch.tensor(ys)\n",
    "\n",
    "\n",
    "xs_test, ys_test = prepare_data(test, stoi=stoi)\n",
    "xs_dev, ys_dev = prepare_data(dev, stoi)"
   ]
  },
  {
   "cell_type": "code",
   "execution_count": 9,
   "metadata": {},
   "outputs": [
    {
     "name": "stdout",
     "output_type": "stream",
     "text": [
      "2.0833022594451904\n"
     ]
    }
   ],
   "source": [
    "xenc = F.one_hot(xs_dev, num_classes=27).float()\n",
    "logits = xenc.view(-1, 2*27) @ W\n",
    "counts = torch.exp(logits)\n",
    "probs = counts/counts.sum(dim=1, keepdim=True)\n",
    "loss = -probs[torch.arange(ys_dev.shape[0]),\n",
    "              ys_dev].log().mean() - 0.1 * W.mean()\n",
    "print(loss.item())"
   ]
  },
  {
   "cell_type": "code",
   "execution_count": 10,
   "metadata": {},
   "outputs": [
    {
     "name": "stdout",
     "output_type": "stream",
     "text": [
      "2.070448875427246\n"
     ]
    }
   ],
   "source": [
    "xenc = F.one_hot(xs_test, num_classes=27).float()\n",
    "logits = xenc.view(-1, 2*27) @ W\n",
    "counts = torch.exp(logits)\n",
    "probs = counts/counts.sum(dim=1, keepdim=True)\n",
    "loss = -probs[torch.arange(ys_test.shape[0]),\n",
    "              ys_test].log().mean() - 0.1 * W.mean()\n",
    "print(loss.item())"
   ]
  }
 ],
 "metadata": {
  "kernelspec": {
   "display_name": "ml",
   "language": "python",
   "name": "python3"
  },
  "language_info": {
   "codemirror_mode": {
    "name": "ipython",
    "version": 3
   },
   "file_extension": ".py",
   "mimetype": "text/x-python",
   "name": "python",
   "nbconvert_exporter": "python",
   "pygments_lexer": "ipython3",
   "version": "3.12.2"
  }
 },
 "nbformat": 4,
 "nbformat_minor": 2
}
