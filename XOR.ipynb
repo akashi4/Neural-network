{
 "cells": [
  {
   "cell_type": "code",
   "execution_count": 12,
   "metadata": {},
   "outputs": [
    {
     "data": {
      "text/plain": [
       "<torch._C.Generator at 0x110b5a1b0>"
      ]
     },
     "execution_count": 12,
     "metadata": {},
     "output_type": "execute_result"
    }
   ],
   "source": [
    "import torch\n",
    "from torch.autograd import Variable\n",
    "import torch.nn as nn\n",
    "import torch.nn.functional as F\n",
    "import torch.optim as optim\n",
    "import numpy as np\n",
    "import matplotlib.pyplot as plt\n",
    "%matplotlib inline\n",
    "torch.manual_seed(2)"
   ]
  },
  {
   "cell_type": "code",
   "execution_count": null,
   "metadata": {},
   "outputs": [],
   "source": [
    "X = torch.Tensor([[0, 0], [0, 1], [1, 0], [1, 1]])\n",
    "Y = torch.Tensor([0, 1, 1, 0]).view(-1, 1)"
   ]
  },
  {
   "cell_type": "code",
   "execution_count": null,
   "metadata": {},
   "outputs": [],
   "source": [
    "class XOR(nn.Module):\n",
    "    def __init__(self, input_dim=2, output_dim=1):\n",
    "        super(XOR, self).__init__()\n",
    "        self.lin1 = nn.Linear(input_dim, 2)\n",
    "        self.lin2 = nn.Linear(2, output_dim)\n",
    "\n",
    "    def forward(self, x):\n",
    "        x = self.lin1(x)\n",
    "        x = torch.sigmoid(x)\n",
    "        x = self.lin2(x)\n",
    "        return x"
   ]
  },
  {
   "cell_type": "code",
   "execution_count": 15,
   "metadata": {},
   "outputs": [],
   "source": [
    "model = XOR()"
   ]
  },
  {
   "cell_type": "code",
   "execution_count": null,
   "metadata": {},
   "outputs": [],
   "source": [
    "def weights_init(model):\n",
    "    for m in model.modules():\n",
    "        if isinstance(m, nn.Linear):\n",
    "            m.weight.data.normal_(0, 1)\n",
    "\n",
    "\n",
    "weights_init(model)"
   ]
  },
  {
   "cell_type": "code",
   "execution_count": 17,
   "metadata": {},
   "outputs": [],
   "source": [
    "loss_func = nn.MSELoss()"
   ]
  },
  {
   "cell_type": "code",
   "execution_count": null,
   "metadata": {},
   "outputs": [],
   "source": [
    "optimizer = optim.SGD(model.parameters(), lr=0.1, momentum=0.9)"
   ]
  },
  {
   "cell_type": "code",
   "execution_count": null,
   "metadata": {},
   "outputs": [
    {
     "name": "stdout",
     "output_type": "stream",
     "text": [
      "Epoch: 0, Loss: 0.2269154042005539\n"
     ]
    },
    {
     "name": "stdout",
     "output_type": "stream",
     "text": [
      "Epoch: 500, Loss: 0.385122150182724\n",
      "Epoch: 1000, Loss: 0.022400539368391037\n",
      "Epoch: 1500, Loss: 0.24054695665836334\n",
      "Epoch: 2000, Loss: 1.9193025827407837\n"
     ]
    }
   ],
   "source": [
    "epochs = 2001\n",
    "steps = X.size(0)\n",
    "for i in range(epochs):\n",
    "    for j in range(steps):\n",
    "        data_point = np.random.randint(X.size(0))\n",
    "        x_var = Variable(X[data_point], requires_grad=False)\n",
    "        y_var = Variable(Y[data_point], requires_grad=False)\n",
    "\n",
    "        optimizer.zero_grad()\n",
    "        y_hat = model(x_var)\n",
    "        loss = loss_func.forward(y_hat, y_var)\n",
    "        loss.backward()\n",
    "        optimizer.step()\n",
    "    if i % 500 == 0:\n",
    "        print(\"Epoch: {}, Loss: {}\".format(i, loss.data.item()))"
   ]
  },
  {
   "cell_type": "code",
   "execution_count": null,
   "metadata": {},
   "outputs": [
    {
     "name": "stdout",
     "output_type": "stream",
     "text": [
      "tensor([[-0.6614]], grad_fn=<AddmmBackward0>)\n"
     ]
    }
   ],
   "source": [
    "print(model(Variable(torch.Tensor([[0, 0]]))))"
   ]
  },
  {
   "cell_type": "code",
   "execution_count": 21,
   "metadata": {},
   "outputs": [],
   "source": [
    "model_params = list(model.parameters())"
   ]
  },
  {
   "cell_type": "code",
   "execution_count": null,
   "metadata": {},
   "outputs": [
    {
     "data": {
      "image/png": "[encoded data removed]",
      "text/plain": [
       "<Figure size 640x480 with 1 Axes>"
      ]
     },
     "metadata": {},
     "output_type": "display_data"
    }
   ],
   "source": [
    "model_weights = model_params[0].data.numpy()\n",
    "model_bias = model_params[1].data.numpy()\n",
    "\n",
    "plt.scatter(X.numpy()[[0, -1], 0], X.numpy()[[0, -1], 1], s=50)\n",
    "plt.scatter(X.numpy()[[1, 2], 0], X.numpy()[[1, 2], 1], c=\"red\", s=50)\n",
    "\n",
    "x_1 = np.arange(-0.1, 1.1, 0.1)\n",
    "y_1 = ((x_1 * model_weights[0, 0]) + model_bias[0]) / (-model_weights[0, 1])\n",
    "plt.plot(x_1, y_1)\n",
    "\n",
    "x_2 = np.arange(-0.1, 1.1, 0.1)\n",
    "y_2 = ((x_2 * model_weights[1, 0]) + model_bias[1]) / (-model_weights[1, 1])\n",
    "plt.plot(x_2, y_2)\n",
    "plt.legend([\"neuron_1\", \"neuron_2\"], loc=8)\n",
    "plt.show()"
   ]
  }
 ],
 "metadata": {
  "kernelspec": {
   "display_name": "ml",
   "language": "python",
   "name": "python3"
  },
  "language_info": {
   "codemirror_mode": {
    "name": "ipython",
    "version": 3
   },
   "file_extension": ".py",
   "mimetype": "text/x-python",
   "name": "python",
   "nbconvert_exporter": "python",
   "pygments_lexer": "ipython3",
   "version": "3.12.2"
  }
 },
 "nbformat": 4,
 "nbformat_minor": 2
}
