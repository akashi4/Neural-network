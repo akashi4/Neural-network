{
 "cells": [
  {
   "cell_type": "code",
   "execution_count": 1,
   "metadata": {},
   "outputs": [],
   "source": [
    "import torch\n",
    "import torch.nn.functional as F\n",
    "import random"
   ]
  },
  {
   "cell_type": "code",
   "execution_count": 2,
   "metadata": {},
   "outputs": [],
   "source": [
    "words = open('../names.txt').read().split()"
   ]
  },
  {
   "cell_type": "code",
   "execution_count": 3,
   "metadata": {},
   "outputs": [
    {
     "data": {
      "text/plain": [
       "{1: 'a',\n",
       " 2: 'b',\n",
       " 3: 'c',\n",
       " 4: 'd',\n",
       " 5: 'e',\n",
       " 6: 'f',\n",
       " 7: 'g',\n",
       " 8: 'h',\n",
       " 9: 'i',\n",
       " 10: 'j',\n",
       " 11: 'k',\n",
       " 12: 'l',\n",
       " 13: 'm',\n",
       " 14: 'n',\n",
       " 15: 'o',\n",
       " 16: 'p',\n",
       " 17: 'q',\n",
       " 18: 'r',\n",
       " 19: 's',\n",
       " 20: 't',\n",
       " 21: 'u',\n",
       " 22: 'v',\n",
       " 23: 'w',\n",
       " 24: 'x',\n",
       " 25: 'y',\n",
       " 26: 'z',\n",
       " 0: '.'}"
      ]
     },
     "execution_count": 3,
     "metadata": {},
     "output_type": "execute_result"
    }
   ],
   "source": [
    "stoi = {s: i+1 for i, s in enumerate(sorted(set(''.join(words))))}\n",
    "stoi['.'] = 0\n",
    "itos = {s: i for i, s in stoi.items()}\n",
    "itos"
   ]
  },
  {
   "cell_type": "code",
   "execution_count": 4,
   "metadata": {},
   "outputs": [
    {
     "data": {
      "text/plain": [
<<<<<<< HEAD
       "(torch.Size([182371, 3]), torch.Size([22848, 3]), torch.Size([22927, 3]))"
=======
       "(torch.Size([182447, 3]), torch.Size([22952, 3]), torch.Size([22747, 3]))"
>>>>>>> c63aa79603675b0a537f3eaf77285b8d43277824
      ]
     },
     "execution_count": 4,
     "metadata": {},
     "output_type": "execute_result"
    }
   ],
   "source": [
    "\n",
    "def build_dataset(words: list[str]):\n",
    "    X, Y = [], []\n",
    "    context_size = 3\n",
    "    for w in words:\n",
    "        context = [0] * context_size\n",
    "        for ch in w + \".\":\n",
    "            X.append(context)\n",
    "            Y.append(stoi[ch])\n",
    "            # output = [itos[i] for i in context]\n",
    "            # print(f\"{''.join(output)} ----> {ch}\")\n",
    "            context = context[1:] + [stoi[ch]]\n",
    "    return torch.tensor(X), torch.tensor(Y)\n",
    "\n",
    "\n",
    "n1, n2 = int(0.8 * len(words)), int(0.9 * len(words))\n",
    "random.shuffle(words)\n",
    "\n",
    "X_train, Y_train = build_dataset(words=words[:n1])\n",
    "X_dev, Y_dev = build_dataset(words=words[n1:n2])\n",
    "X_test, Y_test = build_dataset(words=words[n2:])\n",
    "\n",
    "X_train.shape, X_dev.shape, X_test.shape"
   ]
  },
  {
   "cell_type": "code",
<<<<<<< HEAD
   "execution_count": 25,
=======
   "execution_count": 5,
>>>>>>> c63aa79603675b0a537f3eaf77285b8d43277824
   "metadata": {},
   "outputs": [],
   "source": [
    "g = torch.Generator().manual_seed(42)"
   ]
  },
  {
   "cell_type": "code",
<<<<<<< HEAD
   "execution_count": 26,
=======
   "execution_count": 6,
>>>>>>> c63aa79603675b0a537f3eaf77285b8d43277824
   "metadata": {},
   "outputs": [
    {
     "data": {
      "text/plain": [
<<<<<<< HEAD
       "torch.Size([182371, 3, 3])"
      ]
     },
     "execution_count": 26,
=======
       "torch.Size([182447, 3, 10])"
      ]
     },
     "execution_count": 6,
>>>>>>> c63aa79603675b0a537f3eaf77285b8d43277824
     "metadata": {},
     "output_type": "execute_result"
    }
   ],
   "source": [
<<<<<<< HEAD
    "C = torch.rand((27, 3), generator=g)\n",
=======
    "C = torch.rand((27, 10), generator=g)\n",
>>>>>>> c63aa79603675b0a537f3eaf77285b8d43277824
    "emb = C[X_train]\n",
    "emb.shape"
   ]
  },
  {
   "cell_type": "code",
<<<<<<< HEAD
   "execution_count": 27,
   "metadata": {},
   "outputs": [],
   "source": [
    "C = torch.rand((27, 3), generator=g)\n",
    "W1 = torch.rand((9, 100), generator=g)\n",
    "b1 = torch.rand(100, generator=g)\n",
    "W2 = torch.rand((100, 27), generator=g)\n",
=======
   "execution_count": null,
   "metadata": {},
   "outputs": [],
   "source": [
    "C = torch.rand((27, 10), generator=g)\n",
    "W1 = torch.rand((30, 256), generator=g)\n",
    "b1 = torch.rand(256, generator=g)\n",
    "W2 = torch.rand((256, 27), generator=g)\n",
>>>>>>> c63aa79603675b0a537f3eaf77285b8d43277824
    "b2 = torch.rand(27, generator=g)\n",
    "parameters = [C, W1, b1, W2, b2]"
   ]
  },
  {
   "cell_type": "code",
<<<<<<< HEAD
   "execution_count": 28,
=======
   "execution_count": 8,
>>>>>>> c63aa79603675b0a537f3eaf77285b8d43277824
   "metadata": {},
   "outputs": [
    {
     "data": {
      "text/plain": [
<<<<<<< HEAD
       "3508"
      ]
     },
     "execution_count": 28,
=======
       "11897"
      ]
     },
     "execution_count": 8,
>>>>>>> c63aa79603675b0a537f3eaf77285b8d43277824
     "metadata": {},
     "output_type": "execute_result"
    }
   ],
   "source": [
    "sum(p.nelement() for p in parameters)"
   ]
  },
  {
   "cell_type": "code",
<<<<<<< HEAD
   "execution_count": 29,
=======
   "execution_count": 9,
>>>>>>> c63aa79603675b0a537f3eaf77285b8d43277824
   "metadata": {},
   "outputs": [],
   "source": [
    "for p in parameters:\n",
    "    p.requires_grad = True"
   ]
  },
  {
   "cell_type": "code",
<<<<<<< HEAD
   "execution_count": 30,
=======
   "execution_count": 10,
>>>>>>> c63aa79603675b0a537f3eaf77285b8d43277824
   "metadata": {},
   "outputs": [],
   "source": [
    "def forward(inputs, column):\n",
    "    emb = C[inputs]\n",
    "    h = torch.tanh(emb.view(-1, column) @ W1+b1)\n",
    "    logits = h @ W2 + b2\n",
    "    return logits"
   ]
  },
  {
   "cell_type": "code",
<<<<<<< HEAD
   "execution_count": 31,
   "metadata": {},
   "outputs": [
    {
     "data": {
      "text/plain": [
       "tensor(0.0316)"
      ]
     },
     "execution_count": 31,
     "metadata": {},
     "output_type": "execute_result"
    }
   ],
=======
   "execution_count": 11,
   "metadata": {},
   "outputs": [],
>>>>>>> c63aa79603675b0a537f3eaf77285b8d43277824
   "source": [
    "n_iter = 10001\n",
    "lre = torch.linspace(-3, 0, n_iter)\n",
    "lrs = 10**lre\n",
    "# lrs[9900:10000]"
   ]
  },
  {
   "cell_type": "code",
<<<<<<< HEAD
   "execution_count": 32,
=======
   "execution_count": 12,
>>>>>>> c63aa79603675b0a537f3eaf77285b8d43277824
   "metadata": {},
   "outputs": [],
   "source": [
    "stepi, lossi, lossd = [], [], []"
   ]
  },
  {
   "cell_type": "code",
   "execution_count": 33,
   "metadata": {},
   "outputs": [
    {
<<<<<<< HEAD
     "ename": "ValueError",
     "evalue": "Expected input batch_size (150) to match target batch_size (100).",
     "output_type": "error",
     "traceback": [
      "\u001b[1;31m---------------------------------------------------------------------------\u001b[0m",
      "\u001b[1;31mValueError\u001b[0m                                Traceback (most recent call last)",
      "Cell \u001b[1;32mIn[33], line 13\u001b[0m\n\u001b[0;32m     11\u001b[0m targets_training \u001b[38;5;241m=\u001b[39m Y_train[ix]\n\u001b[0;32m     12\u001b[0m logits_train \u001b[38;5;241m=\u001b[39m forward(inputs)\n\u001b[1;32m---> 13\u001b[0m loss_train \u001b[38;5;241m=\u001b[39m \u001b[43mF\u001b[49m\u001b[38;5;241;43m.\u001b[39;49m\u001b[43mcross_entropy\u001b[49m\u001b[43m(\u001b[49m\u001b[43mlogits_train\u001b[49m\u001b[43m,\u001b[49m\u001b[43m \u001b[49m\u001b[43mtargets_training\u001b[49m\u001b[43m)\u001b[49m\n\u001b[0;32m     15\u001b[0m logits_dev \u001b[38;5;241m=\u001b[39m forward(X_dev)\n\u001b[0;32m     16\u001b[0m loss_dev \u001b[38;5;241m=\u001b[39m F\u001b[38;5;241m.\u001b[39mcross_entropy(logits_dev, Y_dev)\n",
      "File \u001b[1;32mc:\\Users\\dondi\\AppData\\Local\\anaconda3\\envs\\danger\\Lib\\site-packages\\torch\\nn\\functional.py:3494\u001b[0m, in \u001b[0;36mcross_entropy\u001b[1;34m(input, target, weight, size_average, ignore_index, reduce, reduction, label_smoothing)\u001b[0m\n\u001b[0;32m   3492\u001b[0m \u001b[38;5;28;01mif\u001b[39;00m size_average \u001b[38;5;129;01mis\u001b[39;00m \u001b[38;5;129;01mnot\u001b[39;00m \u001b[38;5;28;01mNone\u001b[39;00m \u001b[38;5;129;01mor\u001b[39;00m reduce \u001b[38;5;129;01mis\u001b[39;00m \u001b[38;5;129;01mnot\u001b[39;00m \u001b[38;5;28;01mNone\u001b[39;00m:\n\u001b[0;32m   3493\u001b[0m     reduction \u001b[38;5;241m=\u001b[39m _Reduction\u001b[38;5;241m.\u001b[39mlegacy_get_string(size_average, reduce)\n\u001b[1;32m-> 3494\u001b[0m \u001b[38;5;28;01mreturn\u001b[39;00m \u001b[43mtorch\u001b[49m\u001b[38;5;241;43m.\u001b[39;49m\u001b[43m_C\u001b[49m\u001b[38;5;241;43m.\u001b[39;49m\u001b[43m_nn\u001b[49m\u001b[38;5;241;43m.\u001b[39;49m\u001b[43mcross_entropy_loss\u001b[49m\u001b[43m(\u001b[49m\n\u001b[0;32m   3495\u001b[0m \u001b[43m    \u001b[49m\u001b[38;5;28;43minput\u001b[39;49m\u001b[43m,\u001b[49m\n\u001b[0;32m   3496\u001b[0m \u001b[43m    \u001b[49m\u001b[43mtarget\u001b[49m\u001b[43m,\u001b[49m\n\u001b[0;32m   3497\u001b[0m \u001b[43m    \u001b[49m\u001b[43mweight\u001b[49m\u001b[43m,\u001b[49m\n\u001b[0;32m   3498\u001b[0m \u001b[43m    \u001b[49m\u001b[43m_Reduction\u001b[49m\u001b[38;5;241;43m.\u001b[39;49m\u001b[43mget_enum\u001b[49m\u001b[43m(\u001b[49m\u001b[43mreduction\u001b[49m\u001b[43m)\u001b[49m\u001b[43m,\u001b[49m\n\u001b[0;32m   3499\u001b[0m \u001b[43m    \u001b[49m\u001b[43mignore_index\u001b[49m\u001b[43m,\u001b[49m\n\u001b[0;32m   3500\u001b[0m \u001b[43m    \u001b[49m\u001b[43mlabel_smoothing\u001b[49m\u001b[43m,\u001b[49m\n\u001b[0;32m   3501\u001b[0m \u001b[43m\u001b[49m\u001b[43m)\u001b[49m\n",
      "\u001b[1;31mValueError\u001b[0m: Expected input batch_size (150) to match target batch_size (100)."
=======
     "name": "stdout",
     "output_type": "stream",
     "text": [
      "step 0  train loss: 9.4429  dev loss: 8.9189 \n",
      "step 10000  train loss: 3.0460  dev loss: 2.8353 \n"
>>>>>>> c63aa79603675b0a537f3eaf77285b8d43277824
     ]
    }
   ],
   "source": [
<<<<<<< HEAD
    "n_iter = 20000\n",
    "lre = torch.linspace(-3, 0, n_iter)\n",
    "lrs = 10**lre\n",
    "\n",
    "for i in range(n_iter + 1):\n",
    "\n",
    "    # minibatch\n",
    "    ix = torch.randint(0, X_train.shape[0], (100,))\n",
=======
    "# n_iter = 10000\n",
    "lre = torch.linspace(-3, 0, n_iter)\n",
    "lrs = 10**lre\n",
    "for i in range(n_iter):\n",
    "\n",
    "    # minibatch\n",
    "    ix = torch.randint(0, X_train.shape[0], (62,))\n",
>>>>>>> c63aa79603675b0a537f3eaf77285b8d43277824
    "\n",
    "    # emb = C[]\n",
    "    inputs = X_train[ix]\n",
    "    targets_training = Y_train[ix]\n",
    "    logits_train = forward(inputs, column=30)\n",
    "    loss_train = F.cross_entropy(logits_train, targets_training)\n",
    "\n",
    "    logits_dev = forward(X_dev, column=30)\n",
    "    loss_dev = F.cross_entropy(logits_dev, Y_dev)\n",
    "\n",
    "    if i == 0 or i == n_iter or i % 1000 == 0:\n",
<<<<<<< HEAD
    "        print(f\"step {i}  train loss: {loss_train}  dev loss: {loss_dev} \")\n",
=======
    "        print(f\"step {i}  train loss: {\n",
    "              loss_train:.4f}  dev loss: {loss_dev:.4f} \")\n",
>>>>>>> c63aa79603675b0a537f3eaf77285b8d43277824
    "\n",
    "    for p in parameters:\n",
    "        p.grad = None\n",
    "    loss_train.backward()\n",
    "\n",
    "    # updating gradient\n",
    "    # lr = lrs[i]\n",
    "    lr = 0.1 if i < 1000 else 0.01\n",
    "    for p in parameters:\n",
    "        p.data += -lr * p.grad\n",
    "    stepi.append(i)\n",
    "    lossi.append(loss_train.log10().item())\n",
    "    lossd.append(loss_dev.log10().item())"
   ]
  },
  {
   "cell_type": "code",
<<<<<<< HEAD
   "execution_count": null,
=======
   "execution_count": 14,
>>>>>>> c63aa79603675b0a537f3eaf77285b8d43277824
   "metadata": {},
   "outputs": [
    {
     "data": {
<<<<<<< HEAD
      "image/png": "iVBORw0KGgoAAAANSUhEUgAAAiwAAAGdCAYAAAAxCSikAAAAOnRFWHRTb2Z0d2FyZQBNYXRwbG90bGliIHZlcnNpb24zLjEwLjAsIGh0dHBzOi8vbWF0cGxvdGxpYi5vcmcvlHJYcgAAAAlwSFlzAAAPYQAAD2EBqD+naQAAZEdJREFUeJzt3Xl4U1X6B/DvTZe0QFuW0gVaSkWgQBGhhS7soGURBTdQtG6goqIw6KgMOgri4DIygCMoCiI/F5gZRJ0BhKKstqBAi8i+l6WltEDTAk2XnN8fJWnSbPem2dp+P8+TB3pz7s25uUnue895z7mSEEKAiIiIyIupPF0BIiIiInsYsBAREZHXY8BCREREXo8BCxEREXk9BixERETk9RiwEBERkddjwEJERERejwELEREReT1fT1fAWXQ6Hc6fP4+goCBIkuTp6hAREZEMQgiUlJSgTZs2UKmst6M0mIDl/PnziI6O9nQ1iIiIyAFnzpxBVFSU1ecbTMASFBQEoHqHg4ODPVwbIiIikkOj0SA6OtpwHremwQQs+m6g4OBgBixERET1jL10DibdEhERkddjwEJERERejwELEREReT0GLEREROT1GLAQERGR12PAQkRERF6PAQsRERF5PQYsRERE5PUYsBAREZHXY8BCREREXo8BCxEREXk9BixERETk9Riw2HHm0jV8vOU4SsoqPF0VIiKiRqvB3K3ZVUZ9uB3F1ytwJL8Ec8fd6unqEBERNUpsYbGj+Hp1y0rWiSIP14SIiKjxYsAiU15xmaerQERE1GgxYCEiIiKvx4CFiIiIvB4DFiIiIvJ6DFiIiIjI6zFgISIiIq/HgIWIiIi8HgMWIiIi8noMWIiIiMjrMWAhIiIir8eAhYiIiLweAxYiIiLyegxYiIiIyOs5FLAsXLgQsbGxCAgIQEJCArZt22a17GOPPQZJkswe3bp1M5RZtmyZxTJlZbzhIBERETkQsKxcuRJTp07FjBkzkJ2djf79+2PEiBHIzc21WH7+/PnIy8szPM6cOYOWLVvi/vvvNykXHBxsUi4vLw8BAQGO7RURERE1KIoDlrlz52LChAmYOHEiunTpgnnz5iE6OhqLFi2yWD4kJAQRERGGx65du3D58mU8/vjjJuUkSTIpFxER4dgeERERUYOjKGApLy/H7t27kZaWZrI8LS0NmZmZsraxZMkS3HbbbYiJiTFZXlpaipiYGERFRWHUqFHIzs5WUjUiIiJqwHyVFC4sLERVVRXCw8NNloeHhyM/P9/u+nl5eVi3bh2+/vprk+VxcXFYtmwZunfvDo1Gg/nz56Nv377Yu3cvOnbsaHFbWq0WWq3W8LdGo1GyK0RERFSPOJR0K0mSyd9CCLNllixbtgzNmzfHmDFjTJYnJyfj4YcfRo8ePdC/f3/861//QqdOnfDhhx9a3dacOXMQEhJieERHRzuyK0RERFQPKApYQkND4ePjY9aaUlBQYNbqUpsQAkuXLkV6ejr8/f1tV0qlQu/evXH06FGrZaZPn47i4mLD48yZM/J3hIiIiOoVRQGLv78/EhISkJGRYbI8IyMDqampNtfdsmULjh07hgkTJth9HSEEcnJyEBkZabWMWq1GcHCwycMVOkln0Fs6hOYoccn2iYiIyD5FOSwAMG3aNKSnpyMxMREpKSlYvHgxcnNzMWnSJADVLR/nzp3D8uXLTdZbsmQJkpKSEB8fb7bNmTNnIjk5GR07doRGo8GCBQuQk5ODjz76yMHdcp73/BbjVtVxTCh/0dNVISIiarQUByzjxo1DUVERZs2ahby8PMTHx2Pt2rWGUT95eXlmc7IUFxdj1apVmD9/vsVtXrlyBU899RTy8/MREhKCnj17YuvWrejTp48Du+Rc5TfeIj9UebgmREREjZckhBCeroQzaDQahISEoLi42KndQ9tfT0U/n/14ofw5LPjb35y2XSIiIpJ//ua9hOwohx8AQC1VeLgmREREjRcDFjsq2CVERETkcQxY7NDnsPiDLSxERESewoDFDn2XEAMWIiIiz2HAYke5YJcQERGRpzFgscPQJcSkWyIiIo9hwGKHYZQQKj1cEyIiosaLAYsdNaOEKlGlaxBT1hAREdU7DFjsMB4ldLFE6+HaEBERNU4MWOyoSbpllxAREZGnMGCxwzCsWaqErmHcxYCIiKjeYcBih3GXEMMVIiIiz2DAYkeFIWCpxFUtu4WIiIg8gQGLHeVCP9NtJQ6c13i4NkRERI0TAxY7jLuEJMnDlSEiImqkGLDYoQ9Y/CR2BxEREXkKAxY7am5+yICFiIjIUxiw2GGcdEtERESewYDFDv3EcdU5LExiISIi8gQGLHYYdwkFqX09XBsiIqLGiQGLHRXGSbdsYCEiIvIIBix2aI2HNXu4LkRERI0VAxY7OEqIiIjI8xiw2FFhdLdmJt0SERF5BgMWO/QTx6mlSoB3ayYiIvIIBix26LuEACC8KVtYiIiIPIEBix36FhYAaObLFhYiIiJPYMBiR4VRwCJVaT1YEyIiosaLAYsdOqhQKW68TZUVnq0MERFRI8WARQZDHktVuWcrQkRE1EgxYJFBn8dyWVPi4ZoQERE1TgxYZNDnsSzdesTDNSEiImqcGLDY8XByO2hvdAkdyyvycG2IiIgaJwYsdkiQUC5q7idERERE7udQwLJw4ULExsYiICAACQkJ2LZtm9Wyjz32GCRJMnt069bNpNyqVavQtWtXqNVqdO3aFatXr3akak4nScZ3bK7ycG2IiIgaJ8UBy8qVKzF16lTMmDED2dnZ6N+/P0aMGIHc3FyL5efPn4+8vDzD48yZM2jZsiXuv/9+Q5msrCyMGzcO6enp2Lt3L9LT0zF27Fjs3LnT8T1zEglG0/OjAicLr3q2QkRERI2QJISyG+QkJSWhV69eWLRokWFZly5dMGbMGMyZM8fu+t999x3uuecenDx5EjExMQCAcePGQaPRYN26dYZyw4cPR4sWLfDNN9/IqpdGo0FISAiKi4sRHBysZJdsWp51CvHr7kUv1TE8WT4NN/Ufi+kjujht+0RERI2Z3PO3ohaW8vJy7N69G2lpaSbL09LSkJmZKWsbS5YswW233WYIVoDqFpba2xw2bJjNbWq1Wmg0GpOHK3QODzLMw+KPSpe8BhEREdmmKGApLCxEVVUVwsPDTZaHh4cjPz/f7vp5eXlYt24dJk6caLI8Pz9f8TbnzJmDkJAQwyM6OlrBnsgnACbdEhEReZhDSbeSZHrXYiGE2TJLli1bhubNm2PMmDF13ub06dNRXFxseJw5c0Ze5R1Qbki6rayOYIiIiMitfO0XqREaGgofHx+zlo+CggKzFpLahBBYunQp0tPT4e/vb/JcRESE4m2q1Wqo1Wol1XdIddItu4SIiIg8SVELi7+/PxISEpCRkWGyPCMjA6mpqTbX3bJlC44dO4YJEyaYPZeSkmK2zQ0bNtjdprsYjxKC/YYkIiIicjJFLSwAMG3aNKSnpyMxMREpKSlYvHgxcnNzMWnSJADVXTXnzp3D8uXLTdZbsmQJkpKSEB8fb7bNKVOmYMCAAXj33XcxevRofP/999i4cSO2b9/u4G45jwBQcSOHxQ+V7BEiIiLyAMUBy7hx41BUVIRZs2YhLy8P8fHxWLt2rWHUT15entmcLMXFxVi1ahXmz59vcZupqalYsWIFXnvtNbz++uvo0KEDVq5ciaSkJAd2yfmMu4S0jFiIiIjcTvE8LN7KVfOw7DhRhINLn8Hjvuvxz8rRuJL8Kl4b1dVp2yciImrMXDIPS2NkPNOtHypx6Vq5ZytERETUCDFgsUPAtEtIYtYtERGR2zFgkaHCMHFcJWRMN0NEREROxoBFBn2XEGe6JSIi8gwGLDIYuoSkSqjYwkJEROR2DFhkME66ZQ4LERGR+zFgkcG4S4g5LERERO7HgEWGcsF7CREREXkSAxY7OoY1Q4W+hUViwEJEROQJDFjsaNVMzS4hIiIiD2PAIoOhhQWV4O2aiYiI3I8BiwzaG8Oa/ThxHBERkUcwYJGhXHDiOCIiIk9iwCKDvkvIT6pihxAREZEHMGCRQT/TrZotLERERB7BgEUG3kuIiIjIsxiwyFAzNX8VhIfrQkRE1BgxYJGhZqZbtrAQERF5AgMWGfQtLL6SDrtOXPRwbYiIiBofBiwy6EcJAcDpi8UerAkREVHjxIBFBv0oIYAjhYiIiDyBAYsMFfAx/N+Pd2wmIiJyOwYsskjQCuP7CREREZE7MWCRSd8t5C+xS4iIiMjdGLDIpO8WYpcQERGR+zFgkalmen4GLERERO7GgEUm3rGZiIjIcxiwyGS4YzNbWIiIiNyOAYtMNUm3DFiIiIjcjQGLTLxjMxERkecwYJGpnF1CREREHsOARSb9HZs5SoiIiMj9GLDIxKRbIiIiz3EoYFm4cCFiY2MREBCAhIQEbNu2zWZ5rVaLGTNmICYmBmq1Gh06dMDSpUsNzy9btgySJJk9ysrKHKme080eE1+Tw8KZbomIiNzOV+kKK1euxNSpU7Fw4UL07dsXn3zyCUaMGIEDBw6gXbt2FtcZO3YsLly4gCVLluDmm29GQUEBKitNWyqCg4Nx+PBhk2UBAQFKq+cSkmQ0SogtLERERG6nOGCZO3cuJkyYgIkTJwIA5s2bh/Xr12PRokWYM2eOWfkff/wRW7ZswYkTJ9CyZUsAQPv27c3KSZKEiIgIpdVxGybdEhEReY6iLqHy8nLs3r0baWlpJsvT0tKQmZlpcZ0ffvgBiYmJeO+999C2bVt06tQJL730Eq5fv25SrrS0FDExMYiKisKoUaOQnZ2tcFdcizPdEhEReY6iFpbCwkJUVVUhPDzcZHl4eDjy8/MtrnPixAls374dAQEBWL16NQoLC/Hss8/i0qVLhjyWuLg4LFu2DN27d4dGo8H8+fPRt29f7N27Fx07drS4Xa1WC61Wa/hbo9Eo2RVFdAKo0t9LiBPHERERuZ3iLiGguvvGmBDCbJmeTqeDJEn46quvEBISAqC6W+m+++7DRx99hMDAQCQnJyM5OdmwTt++fdGrVy98+OGHWLBggcXtzpkzBzNnznSk+soJwVFCREREHqSoSyg0NBQ+Pj5mrSkFBQVmrS56kZGRaNu2rSFYAYAuXbpACIGzZ89arpRKhd69e+Po0aNW6zJ9+nQUFxcbHmfOnFGyK4oImM50qyljtxAREZE7KQpY/P39kZCQgIyMDJPlGRkZSE1NtbhO3759cf78eZSWlhqWHTlyBCqVClFRURbXEUIgJycHkZGRVuuiVqsRHBxs8nAVfx+VSdLtJ1uOu+y1iIiIyJzieVimTZuGzz77DEuXLsXBgwfxpz/9Cbm5uZg0aRKA6paPRx55xFB+/PjxaNWqFR5//HEcOHAAW7duxZ///Gc88cQTCAwMBADMnDkT69evx4kTJ5CTk4MJEyYgJyfHsE1Pk6SamW79UYnSMnYLERERuZPiHJZx48ahqKgIs2bNQl5eHuLj47F27VrExMQAAPLy8pCbm2so36xZM2RkZOD5559HYmIiWrVqhbFjx2L27NmGMleuXMFTTz2F/Px8hISEoGfPnti6dSv69OnjhF10Dk4cR0RE5DmSEEJ4uhLOoNFoEBISguLiYqd3D634NReHvn8fb/otx3+rkrEr8QPMHB3v1NcgIiJqjOSev3kvIZmMZ7ptEBEeERFRPcKARSZ9l5AaFWgYbVJERET1BwMWmcqEPwDOdEtEROQJDFhk0t7oEgqQynGq6KqHa0NERNS4MGCRQaAmYFGjAtuOFnq2QkRERI0MAxaZ9F1CanYJERERuR0DFhl6tWth0iVERERE7sWARYbOEUHQgi0sREREnsKARSbjHBYiIiJyLwYsMtXksLBLiIiIyN0YsMhkaGGRKiFB5+HaEBERNS4MWGTSByxA9fT8RERE5D4MWGQqu5F0CwAB7BYiIiJyKwYsMlXBB5Wi+u1i4i0REZF7MWBRoCaPhS0sRERE7sSARYEyzsVCRETkEQxYFDDMdsscFiIiIrdiwKKAVnDyOCIiIk9gwKKAoUtIqoAQwsO1ISIiajwYsChg3CV0sUTr4doQERE1HgxYFOANEImIiDyDAYsCzGEhIiLyDAYsCuhbWAI4DwsREZFbMWBRwDBxHCqw4cAFD9eGiIio8WDAokBNwFKODzYc9nBtiIiIGg8GLAqUiRtdQqiAJEkerg0REVHjwYBFAeN7CTFcISIich8GLAoY57Bw2jgiIiL3YcCigL5LSI0KXLrKkUJERETuwoBFAd78kIiIyDMYsChQk8PCieOIiIjciQGLAmWcmp+IiMgjGLAooJ+an11CRERE7sWARQHDzQ/ZJURERORWDgUsCxcuRGxsLAICApCQkIBt27bZLK/VajFjxgzExMRArVajQ4cOWLp0qUmZVatWoWvXrlCr1ejatStWr17tSNVcynhYMxEREbmP4oBl5cqVmDp1KmbMmIHs7Gz0798fI0aMQG5urtV1xo4di59++glLlizB4cOH8c033yAuLs7wfFZWFsaNG4f09HTs3bsX6enpGDt2LHbu3OnYXrmIPoeFXUJERETuJQkhFM2BlpSUhF69emHRokWGZV26dMGYMWMwZ84cs/I//vgjHnjgAZw4cQItW7a0uM1x48ZBo9Fg3bp1hmXDhw9HixYt8M0338iql0ajQUhICIqLixEcHKxkl2Rp/+oa9JYO4d/qWTiui8TQ8g9w6p07nP46REREjYnc87eiFpby8nLs3r0baWlpJsvT0tKQmZlpcZ0ffvgBiYmJeO+999C2bVt06tQJL730Eq5fv24ok5WVZbbNYcOGWd0mUN3NpNFoTB6uxmHNREREnuGrpHBhYSGqqqoQHh5usjw8PBz5+fkW1zlx4gS2b9+OgIAArF69GoWFhXj22Wdx6dIlQx5Lfn6+om0CwJw5czBz5kwl1a+z2l1CJWUVCArwc2sdiIiIGiOHkm5r36lYCGH17sU6nQ6SJOGrr75Cnz59MHLkSMydOxfLli0zaWVRsk0AmD59OoqLiw2PM2fOOLIritROui2v1Ln8NYmIiEhhwBIaGgofHx+zlo+CggKzFhK9yMhItG3bFiEhIYZlXbp0gRACZ8+eBQBEREQo2iYAqNVqBAcHmzxcafStbQzzsKiZdEtERORWigIWf39/JCQkICMjw2R5RkYGUlNTLa7Tt29fnD9/HqWlpYZlR44cgUqlQlRUFAAgJSXFbJsbNmywuk1PGBIXZugS8peqoAJbV4iIiNxFcZfQtGnT8Nlnn2Hp0qU4ePAg/vSnPyE3NxeTJk0CUN1V88gjjxjKjx8/Hq1atcLjjz+OAwcOYOvWrfjzn/+MJ554AoGBgQCAKVOmYMOGDXj33Xdx6NAhvPvuu9i4cSOmTp3qnL10gju6Rxq6hAC2shAREbmToqRboHoIclFREWbNmoW8vDzEx8dj7dq1iImJAQDk5eWZzMnSrFkzZGRk4Pnnn0diYiJatWqFsWPHYvbs2YYyqampWLFiBV577TW8/vrr6NChA1auXImkpCQn7KJz+PqoUG4SsHCkEBERkbsonofFW7l6Hhagei6Wo+p0+ElVSCr7J9a+Nhatmqld8lpERESNgUvmYSGjoc0Su4SIiIjchQGLQryfEBERkfsxYFGgT2xLBixEREQewIBFgVG3RKJM8AaIRERE7saARYH2rZoaRgrxfkJERETuw4BFoZouoXJc1VZ5uDZERESNAwMWhWpugFiBF1Zke7g2REREjQMDFgUkCSb3E8o5c8WzFSIiImokGLAopO8SCmAOCxERkdswYFFAgoTrqJ7ZNhBaD9eGiIio8WDAooAkAdcEAxYiIiJ3Y8CikL6FpYnEgIWIiMhdGLAodBUBANjCQkRE5E4MWBS6fqNLqAkDFiIiIrdhwKKABODajS6hplKZZytDRETUiDBgUegaRwkRERG5HQMWhdglRERE5H4MWBQyJN2yS4iIiMhtGLAoZBjWzBYWIiIit2HAopB+4jjOw0JEROQ+DFgUunajS6gJ2CVERETkLgxYFGKXEBERkfsxYFHo6o0uoQCpAiroPFwbIiKixoEBixJSTZcQUD0Xy7XySg9WiIiIqHFgwKKQFn7QCQlAdbfQpC/3eLhGREREDR8DFsWkmtluJS22Hrno4foQERE1fAxYHKBPvG3KkUJERERuwYDFAVfFjdluOVKIiIjILRiwOMAwtJmTxxEREbkFAxYHXDPMxcIuISIiIndgwOIA/fT87BIiIiJyDwYsDmCXEBERkXsxYHHAVd5PiIiIyK0YsCggoXrCuOtCP6y5uoWlSic8ViciIqLGwKGAZeHChYiNjUVAQAASEhKwbds2q2U3b94MSZLMHocOHTKUWbZsmcUyZWXe2YKhQRMAQDPpOgDgekWVJ6tDRETU4PkqXWHlypWYOnUqFi5ciL59++KTTz7BiBEjcODAAbRr187qeocPH0ZwcLDh79atW5s8HxwcjMOHD5ssCwgIgDcqEdUBSxCuAQAulZbjgw2HMa53NOIigm2tSkRERA5Q3MIyd+5cTJgwARMnTkSXLl0wb948REdHY9GiRTbXCwsLQ0REhOHh4+Nj8rwkSSbPR0REKK2a2+hbWIKlqwCAV1b9js9/OYXh86y3NBEREZHjFAUs5eXl2L17N9LS0kyWp6WlITMz0+a6PXv2RGRkJIYOHYpNmzaZPV9aWoqYmBhERUVh1KhRyM7Otrk9rVYLjUZj8nAXzY0WluAbLSx/nC9222sTERE1RooClsLCQlRVVSE8PNxkeXh4OPLz8y2uExkZicWLF2PVqlX49ttv0blzZwwdOhRbt241lImLi8OyZcvwww8/4JtvvkFAQAD69u2Lo0ePWq3LnDlzEBISYnhER0cr2ZU6KTG0sFQHLGDOLRERkUspzmEBqrtvjAkhzJbpde7cGZ07dzb8nZKSgjNnzuDvf/87BgwYAABITk5GcnKyoUzfvn3Rq1cvfPjhh1iwYIHF7U6fPh3Tpk0z/K3RaNwWtGhq5bAw6ZaIiMi1FLWwhIaGwsfHx6w1paCgwKzVxZbk5GSbrScqlQq9e/e2WUatViM4ONjk4S4aNAVQ08JSyWHNRERELqUoYPH390dCQgIyMjJMlmdkZCA1NVX2drKzsxEZGWn1eSEEcnJybJbxpBJDDstVsD+IiIjI9RR3CU2bNg3p6elITExESkoKFi9ejNzcXEyaNAlAdVfNuXPnsHz5cgDAvHnz0L59e3Tr1g3l5eX48ssvsWrVKqxatcqwzZkzZyI5ORkdO3aERqPBggULkJOTg48++shJu+lc+lFC/lIV1KiAFv4erhEREVHDpjhgGTduHIqKijBr1izk5eUhPj4ea9euRUxMDAAgLy8Pubm5hvLl5eV46aWXcO7cOQQGBqJbt25Ys2YNRo4caShz5coVPPXUU8jPz0dISAh69uyJrVu3ok+fPk7YRee7igBUCQk+kkAwruIiAxYiIiKXkoQQDaJPQ6PRICQkBMXFxS7LZ9lxoggPLN4BAMhRP4nm0lUM1b6P46Ktocypd+5wyWsTERE1RHLP37yXkINqz8VCRERErsOAxUG1RwoRERGR6zBgcZDpSCEiIiJyJQYsCvioaibH048UCrpxx2YiIiJyHQYsCvRq1wK927cAYJzDwhYWIiIiV2PAooCPSsK/J1VPkGd2PyEiIiJyGQYsDjJ0CXGUEBERkcsxYHGQRnCUEBERkbswYHFQ8Y2ApQVKTJZnHi/0RHWIiIgaNAYsDohuGYgiBAEAWkqmAcv4T3fienmVJ6pFRETUYDFgcUDv9i1RJEIAAC0ljdnzZRUMWIiIiJyJAYsDHujdDkWi+n4HraAB0CBux0REROS1GLA4oIm/D4pQHbCopUoEwXTyuM8zT+G+RZnQlFV4onpEREQNDgMWB4QFq6GFP0pFAADzbqEFPx3FrtOX8dm2k56oHhERUYPDgMUBYUHVgcolUZ14W90tZI65LERERM7BgKUOilCdeBsqFXu4JkRERA0bA5Y6KLyReFt7aDMRERE5FwOWOrhkMlKIiIiIXIUBSx3oRwq1sjAXCxERETkPA5Y6MMzFwoCFiIjIpRiw1IE+h6U1rni2IkRERA0cA5Y6KEALAEC4dNnDNSEiImrYGLDUwQXBgIWIiMgdGLDUQb5oCQBoJpWhGa4pWlenEzh35br9gkRERMSApS6uIQAaEQhAeSvL8yuy0fedn/G/38+7ompEREQNCgOWOrpwo5UlQrqkaL01v+cBAD7ectzpdSIiImpoGLDUUb4+jwXMYyEiInIVBix1pM9jiVTYwqInhDNrQ0RE1DAxYKmjcwgFALSVLnq4JkRERA0XA5Y6OieqA5YoqdDDNSEiImq4GLDU0VnRGgDQ1kLAsnjrCbvrs0uIiIjIPgYsdXRW6LuECgGYRx8v/Xuvm2tERETU8DBgqaN80QpVQkKAVIHWKDZ7/j+7z9pcnw0sRERE9jkUsCxcuBCxsbEICAhAQkICtm3bZrXs5s2bIUmS2ePQoUMm5VatWoWuXbtCrVaja9euWL16tSNVc7sK+OLCjXsKWeoWIiIiorpTHLCsXLkSU6dOxYwZM5CdnY3+/ftjxIgRyM3Ntbne4cOHkZeXZ3h07NjR8FxWVhbGjRuH9PR07N27F+np6Rg7dix27typfI884JxJtxARERE5m+KAZe7cuZgwYQImTpyILl26YN68eYiOjsaiRYtsrhcWFoaIiAjDw8fHx/DcvHnzcPvtt2P69OmIi4vD9OnTMXToUMybN0/xDnmCPvE2ysrQ5rKKKqvrCmbdeq2yiip8/stJnLhY6umqEBE1eooClvLycuzevRtpaWkmy9PS0pCZmWlz3Z49eyIyMhJDhw7Fpk2bTJ7Lysoy2+awYcNsblOr1UKj0Zg8PKVmaLPlgOWJZb9ZXfdQfolL6kR1t3DTMcz87wEM+WCLp6tCRNToKQpYCgsLUVVVhfDwcJPl4eHhyM/Pt7hOZGQkFi9ejFWrVuHbb79F586dMXToUGzdutVQJj8/X9E2AWDOnDkICQkxPKKjo5XsilPlijAAQIx0weLzmceLDP/XVpq3thy9wKDFG/16yrHZi4mIyPl8HVlJkiSTv4UQZsv0OnfujM6dOxv+TklJwZkzZ/D3v/8dAwYMcGibADB9+nRMmzbN8LdGo3Fr0DI+qR2+3lmdt3NaFwEAaCcV2FznwHkNRi7YhsdS25ssP3P5GjqGB7mknkRERA2BohaW0NBQ+Pj4mLV8FBQUmLWQ2JKcnIyjR48a/o6IiFC8TbVajeDgYJOHO826q5vh/6dEdT2jpIvwRaXF8jqdwFv/OwAAWJZ5yuX1I6pPNh8uwJx1B1FZpfN0VYjISykKWPz9/ZGQkICMjAyT5RkZGUhNTZW9nezsbERGRhr+TklJMdvmhg0bFG3T3Xx9at66AjRHmfCDr6RDG6nIYvmRC7Yh64Tl54gau8c+/w2fbDlhd94iImq8FHcJTZs2Denp6UhMTERKSgoWL16M3NxcTJo0CUB1V825c+ewfPlyANUjgNq3b49u3bqhvLwcX375JVatWoVVq1YZtjllyhQMGDAA7777LkaPHo3vv/8eGzduxPbt2520m64loMIpEYE46Qw6SOeRK8xbhmwl1+YXa/HSv/fisdT2iG8b4lAdth29iMiQANwcprxr6T+7z0IlAff0irJZTgiBxVtPoFN4EAbHhTlUTyJbzl257tLtF5ZqkZN7BYPjwuCjst7lTETeR3HAMm7cOBQVFWHWrFnIy8tDfHw81q5di5iYGABAXl6eyZws5eXleOmll3Du3DkEBgaiW7duWLNmDUaOHGkok5qaihUrVuC1117D66+/jg4dOmDlypVISkpywi66xzHRFnE4g47SWWxCT0Xr/mX1PgDVgcOpd+5Q/NoH8zRIX/IrAChev/haheH2AcPjI9DE3/pHIut4EeasO+TQ6xDJ4epR/sPnbUNhqRazRnfDIyntXftiRORUDiXdPvvss3j22WctPrds2TKTv19++WW8/PLLdrd533334b777nOkOl7hqK4t4AN0lM659XVPFV7FiPnWZxq257rRHDEVlQLwt17WWVe/lVU6zFj9B/rEtsS9CbZbdYicqbBUCwDIOHCBAQtRPcN7CTnJEVF94u2oqlvAUny9AtfKLSfuWvLk8l11ej1jS345iTd/2O/yyez+93seVu46gxddeGPI5VmnMOrDbSi6cYIiIqL6jQGLkxwVbQEAN0vnUJdbGvaYuQFd/7pedvnTRdccfq3aFvx0FMsyT+H3s+Y3cQScd6PGS1fLnbQl6/76/X78cU6D+T8dtV/YCgnMcWiobE2ZUJ/lFV/Hp1tPoPh6hcteo0rH2bnJMxiwOMkpEYEK4YNmUhnaoO6jgbSVVXjrfwfwyzHz+xNtOXIRsdPXYOOBC1ByTj1yoQRvfP8HCkrKbJa7qrXSwuPC3ylXterYui2CPaKR3Eu7sFSL4mvKTnBHLpTgp4OWJ0qsDxpmuAKM/SQLb689iFf+87tLtn+q8Cq6v7ke7/14yH5hJyirqMJHm47hwHnPzWRO3oMBi5NUwhcnRfUEcnXtFgKA9348jCXbT+Khz8xvAPno0l8hBDBx+S5FP7wj5m/DF1mnMW1lTVeMpQtNV56mL18th7bSdK6Nq9pKDHx/syH52BohRL29uruqrcSmwwUor3TdPCNCCMVX1tfKK5E4eyN6zNqgaL20f2zFhC92Ye+ZK4rWcyWdTkBXTz8fznLmUnWe2ZYjlm8TUlcfZBzBtfIqLNx83CXbr+3jLcfx/vrDGLnAfp5eWUUVPtt2AscK6n7vr/r6O+MKZy5d85r5kRiwOJG+W6ijVPe5JJZsPymrnLWW7dNFV/H2mgO4oKlpTdF/Cfeds9zlY09dWxwuXS1Hz7cy8G6tq7Pvc84j99I1w8zBFl9bCNy9MBO3zd3iNV8eJZ5cvguPf/4b3l/vuivTv6zehx4zN1hslbPm7OW6JVIfdvJtJRz9jOl0And8uB1jFv5i0lonhMAPe8/jcCO7Z1dDaR3845z8lpWFm49j9pqDuG1u3e79tXT7SXT964/Yk3u5Ttspq6jC2cvO67LXVlbh4y3HcSjffa1NGQcuoP97m/C4jfvhuRMDFic6eiPxtrN0xiXb3336Mj7adMxkWe08C/0oiPs/zsKn205i0pe7zbYj9yo863gRdhpNdlfXXptdVu7NI+fHVSeAnDNXcLLwKk4VXZX9mt6Sh6K/n9SKX6s/G0IIRcnV1qz5PQ+7T1e/r9/c2Pa8jUdMyrz0773o9+7Pdeoec6fNhwvww97zitbJ15ThYJ4Gv58tRolRl+bmIxfxwjfZGDZvq0l5S4H+31zYlVIfFGjKcNzOncmtdd16w13n95yuW4ChN+t/B6Ct1NX5szD0gy3o9+4mp3Vnfbr1BN5ZdwjD51W3NlXpBB76bIdhBnVL6npcPv+l+sJ521H5F0GuxIDFifbr2gMAeqhc01x676JMvL/+sMmy2nNf9X+3+k7YBSXVgUt27hWHXqtUW4kHP92BcYt3OO1Ep6pHiY7Xyiux44Trbn74l9X70PWv65Fjp0tlT+5lXLaSpHw4vwTPfb0H9y7KwqD3N1ksU1ZRhf/sPouzl6/ju2z3Drl31GOf/4YXvsnG+E93mAUub685YBa012b8G/2HlQRy83WqJ0VcuesMThVWB8RVOoGPtxzHbiedCB11KF+Daf/KwZlLNVfrV7WVeHvNAezJvWzxpOTIearP337C0A+2oEBjO8etto0HLqDHzA1uyWm6dLXc5H0wVvvC51+7zmDg+5vsBmGuop8GYsMB6zfxVaL2YIhfjhXil2NFVlvjD+Vr0OutDEPQ4Qhv+8lmwFIHzwzqYPL3Hl1HAEAn1TkEQ34rgD2rdp/FKitTll8tNw0mrldUYeqKbNnbtvZ5NE681eecyP0NLKuowq8nL5n1A1v78Bv/uFprQnX3Fdyrq2zn09SVvjXknz9bP/luPlyAexZmYsB7loOR34xarE4ZjRYzfqsultQM69Z/VvadLcbweVvN8hwcfY8vaMow8P1NWOTkvIbM40V44Zuaz3Ju0TV8uu0k3l9/2KyuJp8tUfP5tbZHtn6HK250OX675yzeWXcI9y7KdKD21u0+fQn/2mW7FTbnzBWM/3QH9p8vxuh//oJv95zDxC9qpjCY/9NRfLrtJO5ZmImUOT+bDd+3tt9WE+qNHLlg/QRvabsTl++CpqwSE76wPMWCPm9rze95SJy9EWt+z0NZRRVGzN+G2+duQcYB+YFOr7cy0P+9TbKCqpf/8ztOF13DdBd/ly05raAV2BFLtp9Epa6ma/zAeQ1+/CPPpMyrq/bh8rUKzPyv9RaY+oYBSx1M7Bdr8ncRQnBaVz1l/a0q21eBSrz4772K5iz5Lkdec7pOJ1BWYZ4PIoTpD7r+5CD3fDbpy90Y+0kWPvy5ZkjxkQslJpPUmbye0f+vlctpzZEf9iu5QrigKTN0l9W+snfnVfae3Mt4ddXv+Peu6iC1xMpJ5rXv/lC0Xf1xfHzZrziUX4JHl/5at4oCgKjugjpddM0sN8kRv52y/j6XG+Uu2UqKfHzZr+j2xnqHTxr6LR9z0ZX5vYuy8PJ/fsevJ6234I356BdkHi/Cg4t3GC4YjPOFjhr9P19ThqUyrqL/b8dpdHtjvc1cMUBZ/kuhnXmOVv6Wi06vrcMXmafw3Nd7UFiqxXNf78HGgxdwME+DowWleHL5LpyvNSnl8Yul+HTrCWgrLf8e7M8z7Wb529qD+OWY5dGZWg/kvL34L+fPMWX8W1a7G2jkgm2Y9OUeZBvl3TjjIs9butT1GLA42R5R3crSS+X4/B/O1vm1dfhgw2Gz5Q9+ugMDrHQlaMpqTpK2PveZxwqR9o8tJvkpmw9XX7nP21j9HmQeL0TaP7Zi8tf2W36svZazAobMY4V4ZOmvyK01f83lq+VI+ttP6DHT8miZexdl4rNtJ3Cy0PZJUAhhkuhs9nytvzcevGDWqnTPwkys+O0M1uyruWISQuDrnbnYJ6OLw/g1LL2fmuv2r7Kzjhdh+LythvwYW8orndf6Zesk7mvU/1lpI2DZc6Mb1F4rhjXuasyTk4tl/D00ZncemRv7cEFThkeX/oqfD13A6zcCXPuj8exvVy9x9kab23rlRuvGGz/sN1leO+AsKNHiqrYSC346iqMXSjD0gy14e+1B2bkTi7eekFVOibp0h1y+5vq5piwdp6NGI6Sc8TFml1ADp+8W6iV5T8CirdThQwtdDzutnByKrmpNMu11Nn7Bxn+2E0culGLc4h2Ys/Yg2r+6xuT5XacuYc3veVbWNvfLsUI8tXyXyUn/VOFVjFu8w/D39zmO52KM/2wnth65iCkrTYOngzIy72evOYjBf99ss8x76w8j6W8/4YvMU7Lr9JKM1rMNBy7gL6v34c5/2r8hqLXg7r92Ell/OliAOz/cjv3ni/HgpztwKL8E4z7ZYXMdSO4bkeIjM2DRE8L6ydfWCV/u/py4WCo7v6tKJ/DU8l2Ya3ThcL28CjqdwLR/5cjOM9h0uADpS3Yir1hensnr3/2BLUcu4oll8mfE9kT67K5Tl/Dej4cwN+MIbv/HVvsrOMnRCyUOzYZ9/sp1fLvnrKH7sDZnv4dXtZWK8xG9IA/a6Ry6lxBVs/Sjpw9YblUdhwQdRD2MCX+rNZpHf26w9UNepRP4xMJVzuELJTa/vH+cKzb5Zs260dRZpRNY8lhvANXdScYWbj6OF9M629oFuwo0rpmyX5/HMfO/+/FoantZ6+QXl0GnE3hv/WH0iLJ8t+7aw3KtJeIaK6/UmRyzvXZaZybeuM2Dca6EPjAQQhg+7xsV5Bw4k6+PUcBidKIQQlhsuhaw/pm1deEo54c+63gRHvx0B5qpfTGudzQeTo5BbGhTq+Uzjxdiw4EL2GD03r3xw358m30Oe89cwbd7zuHxvrFW19d7/HNlw0svyjgZCyHw5PLdJn+72+w1Bx1ab9vRi7iqlT8o4M0f9qOJvw9eHh6HExdLDcGRvZu5Gn/+AWDIB5tRVqFDQYkWkwZ2gE4nsP+8Bp0jgpBXfB1aC13txiqqdPDzkX9uuHdRpmEghZ7FmNvJh87bZoRmwOJkh0Q7XBNqBEvXcLN03jDUuT65Xm76ZavU6RyeTl8IoMRKszYAjPpwO57sb/5DLecKslRbicP5JVi46RheGRGHTuFBDtURcF9fbam20mKTfMbBC/h4i/ykVXv5K2v35eHZr/ZgUOfWJsvX7883yQWxtNdXas16W1Glw+h//oKbw5phwYM9DYENALMfyK92nkbrZmqkdYuQtR9K+EjmLSxvfP8H1u+/gOUT+thdX+6JWF/M1mdC38pXqq3Eku0n8V32Oex+/Xar5S3ligEwmXjvr9//gVmj42XV0Zme/r/d2Gg0wscd4YqzYiL9Xerl+OngBSy70fI59bZO2GWhJbJ2d25ZRRXW/ZGHWf89gHt7ReG1UV0hRE3u3/ajhQhtprbbSnr28jVculqOTuFBGP/pDuzJvYIVTyUj+aZWJuUO5WvQook/woMDai03n0cov9j190nzrnCFAYvTVcEHv4ubkCwdRC/VURyt8s6A5V+/We/fX7XHdETSXf/8BRdLtGZJxnLISQw9mGf+ZbQV2AshUFJWge5v1uSb/HG+GDv/cpvVda6XV+GVVabzKuQWXcNff/gDTw/ooLivtrJKh4ulWkSGBNosd/lqOXx8TDduKemx9tWTPfZyep79ag+Amnwivaf/z3ReHjnnjZ0nLuFAngYH8jRY8GBPk+fKq3QmI5FmrK4+3r+/mYbgAD+zbR29UGK4qp3/wK0YfWtbGTUwV1iqxc8HC/BF1mkA1TPv1la7S2jtPuvDS43LOTI/TpGVgL5UWwnN9QpZwdLyrNNOC1iUdNNtqN1iZmNVOdutrNLhyx2nkVTrZGzMXrJuXRlfYO09cwWLNh83SQoXEBZbKYfU6vL9y+p9+HZPdXD62faTuD8xGg9+WtNNKiDsBisSJPR71zxXcPq3+7DppUGGv89cumaYY+WLJ/rg2z1nMeuueIQ0Mf8eAcDBPPNu7OU7TmFs72gAjk8QalJ3L4tYGLC4wB5dRySrDqKXdBQrMdjT1bHo5VXyJ0XSn5D+97tpEqizEmG325mZ1VKzZO0v4wUrXTySVJ3I+Y+MI8g6YTqKYMrKbGTnXsHmwxex4qlkw/J8Ga07D366A7+duoyVTyVb/GHWiercm0F2cl6q6yjJGm6qlzrnJ+QrnCtDido5S1knrB8fawHpsH9sRdb0obheXoVHlu7EoM5heG7wzSb5CVNW5ODOW9o4lBw79uMsqwmpeqLW6XWt0bBPWz/E932cheN/G2lzllK5P+QJb2WY3YrCHYSQP0FkbXWp73s/HpI1bb+jXUB6Emy3mPV6K8Pk79oj2C6WaDFnnemyN3/YbzZNhD5Y0Zv2rxyTYKjUzmcQkB88Gv+m6UfwfZ9zHj9O7S97u/qZgWsHY+WVOvj7VndB6ROeyyt1+MvqfRgeH4FhVlpEjd/ibUcvonf7lgjw85G1P65Q/xIs6oHdOu8bKeQMxifJ2Olrcd/HWS57rf3nNej37s84VXhV0VTztZVXCoz9JMssWJEk08DE+PyTPOcnm9vMLy4zDL9dYaOlSk6wopdrZTIsS87LTLiUw9Koo9onrI82KZ9fRd+lt+K3XPx26rLZhId6/9lzFq9+q3yeDHvBCgB8suUEzsp4X/OLy/DzoQKTZVfLK00C9B/2njdMBPbmD/sN8+gYm7PuINKX7DTk1+QVX/dIsAJUd5n1mLnBbqKmpZO+rVFuxiwNG3fXPYYEamaPdkTtFo8B720ydBfpWeoS3F9r1lp7eWG2SKiem+aDDdXzClmLv/StLnLpdMIscbnTa+twrKAUOp1Ah7+sRa+3MvDxluNYnX3OpNW1VFtpMoLLuPU0fcmvhhZUT2ELiwtk3whYOqrOIRil0KCZh2tUP529fB33Lso0a263NkCkvFIHX5WE88U1czrU7t6y5oCF5lVrjAOa1dnn8HByDAo0ZbJHblhi72pY7klEKSXz+yh1ME9jde4dPSU3T3Qk7eFbo9l9TUer1ZyMLAWon9VKINdPYHdyzkizE5veJ1uq15m4fBc6RwQZ/lZCpxM2R+XZouQeW7+fvYKI4AAcv2gedLzxg/WEceOqDXx/s8IaOs+P+/IxOC7MaduzdMFQqqDV0xb99A61nbl8Dc99Xd11mxTbSvGMvLuszFl001/WWlz+9P/tMgT6xdcrTAYzbD1yEe1bNcWA9zeha2Qw1k6pbtWp3ZK4as9ZfDC2h6J6OhMDFhe4hGCc1IUjVnUBSapDyNAlerpK9Za13IBZFmZvjHt9ndVgxhLjAKMus0HWdSZUzfUKu0O/lcwG6kpjFbSqXa+oMjnBWRpW/ZWdScxcRScEvvk1F7+fvWLx+QU2ZiC2Z/Phi2a5Q3L9347ThpYcpZQE3Xf98xcAQEyrJnbLVukEThVdxU02RkG528pdZ8wSyp3N0eMgV0VVzZcj99I1zM04YqO0OUuJuLZYCk71HjGaRPJAngZ/nCvGi//a6/Sbm9YVAxYX2ay7FbGq9UhT7WLA4gKWvqxKghVvun28taDMmNKkXFf51coNLC2RUDMtOwA8bzTNvhJVOmEyB4sz/HyowKwbyBvUnmBNLiVDe42dLrLcZdb+1TX47rm+8PdRYeSC6i6JxJgWVucdcYd/18p1qmpAE43Ym8zPFdb9YT0JfdSH9ud78gRJeMNtNp1Ao9EgJCQExcXFCA4OdstrFpVqkWBlpsck6SBWqt+CRjRBb+1CaOHvljoReYvoloE4c6nuV6l+PhLmjeuJhJgWdvOLGjN/X5VJgEjkCvbmrHGE3PM3k26dpGuk6Zv8q+iM86IlgqVrGKzK8UyliDzIGcEKUN10ru/rJ+sYrFBDx4DFRQRU+K6qHwBgvA+vComIiOqCAYuTNFObpwOtqBqMSqHCAJ99GKBy3WgMosbgTytzPF0FIvIgBix1YDyhWacI86HLuSIcy6qGAQBm+i6DGq6/gydRQ1V7Lh0ialwYsNSBnHzleZX34oJojljVBTzl8z831IqIiKjhYcDiYqVogtkVDwMAnvP9HtGSd8ynQUREVJ8wYHGD/+pS8EtVNwRIFZjj+xlUYDY/ERGREgxYnMTWregBCa9XPo5rQo1+Pvsx03cZgxYiIqp3dB6cdJMBi5PYuyPnCdEGr1Q8CQBI992Iz/3eQzCU3TuCiIjIkyp0nrvYZsDiRv/VpeK58hdwTagx0Od3/OD/OjpK8m7OR0RE5Gm2exNciwGLm63RJePe8jdxVoSiveoCvvN/HeN8NrGLiIiIvF7tOzi7EwMWDzgoYnCndjYyq7qiqaTFu36f4nv/15AkHfR01YiIiLwSAxYnUdpMdhnBSK+YjtkVD0EjmqC76hRWqt/CEr/3cYt03EW1JCIiqp8YsDiJI81kVfDBZ1V3YLD2A/xf5W2oFCoM9cnGD+rX8R//NzFCtRM+cOy28URERM4mY75Ul3EoYFm4cCFiY2MREBCAhIQEbNu2TdZ6v/zyC3x9fXHrrbeaLF+2bBkkSTJ7lJWVOVI9j6jLQSxCCF6vfAK3l7+PVVX9US58kKg6gkX+87FDPRmzfZdguOpXNEeJ8ypMRERUj5jfsc+OlStXYurUqVi4cCH69u2LTz75BCNGjMCBAwfQrl07q+sVFxfjkUcewdChQ3Hhgvlsr8HBwTh8+LDJsoCAAKXVcytfn5p4z0dV90ykkyISL1Y8g3fwIB72zcBDPj+htVSMh31/wsP4CToh4bCIwm5dJ/yqi8N+0R6nRTgqlR9GIiKiekUScm6IYyQpKQm9evXCokWLDMu6dOmCMWPGYM6cOVbXe+CBB9CxY0f4+Pjgu+++Q05OjuG5ZcuWYerUqbhy5YriHdDTaDQICQlBcXExgoODHd6OUu+vPwQA8FWpMP+no07dti8q0U+1D4NUe5GiOoDOKvMh0Frhi2OiLY6IKBzTtcUJEYkTIhK5IgzX4d0BHxER1S//ndwP3aNCnLpNuedvRZfm5eXl2L17N1599VWT5WlpacjMzLS63ueff47jx4/jyy+/xOzZsy2WKS0tRUxMDKqqqnDrrbfirbfeQs+ePa1uU6vVQqvVGv7WaDRKdsVp/jwsDgDwj4wjTt92JXyxWdcTm3XV70NrXEFP1VGkqA6gu+okukqn0UTSopt0Gt1wGvAxXf+yaIZzIhRFIhiX0QyXRRCuiGa4hOp/LyMIJSIQpQiERjSFBk2ghR8ACYC48S8REVG1a+WVHnttRQFLYWEhqqqqEB4ebrI8PDwc+fn5Ftc5evQoXn31VWzbtg2+vpZfLi4uDsuWLUP37t2h0Wgwf/589O3bF3v37kXHjh0trjNnzhzMnDlTSfXrvYtojg263tig631jiUC0VICu0ml0kM6jgyoPN0l5uEk6jxDpGlpIpWghKZtNt0pIqIQv/FCJK2iKyyIIFfDFdahRAR8ISLgu1NDCD5VQ4ToC0AzXcUkEQQs/lMEfpSIQVxGAUgQa/n9d+KMM/rgONXRQoVz4ohTVz0kAKuADBkhERGSNQ8kPUq0hMUIIs2UAUFVVhfHjx2PmzJno1KmT1e0lJycjOTnZ8Hffvn3Rq1cvfPjhh1iwYIHFdaZPn45p06YZ/tZoNIiOjla6K07jmcl0JJwR4TgjbgSQhgFFAs1wHW2lQrSVCtFSKkFzlKKFVIIWKEVzqfTGvyUIkq4jCNcQhOtQSQI+koAPKgAALVGKlgoDHkfphIRKqOAvVeGQLhrXoEaxaIpiNEWpCESslA8t/FAFH/ynqj9K0ASB0KI5riJL1xXn0QoMeIiIXMuDg4SUBSyhoaHw8fExa00pKCgwa3UBgJKSEuzatQvZ2dmYPHkyAECn00EIAV9fX2zYsAFDhgwxW0+lUqF37944etR6ToharYZarVZS/UZEQima4LBoh8PCeiK06Ro6NEXZjU6hSpTD90agcxW+UiWaQAtfVEEFgQCUI0Aqhwo6BOEaQiUNJAhcgxoBqEBTXEczqQzNcB1NpesIwnUEoBz+UoVhO2pUwE+qGbKtkgT8b0RccaozNut6u89um88f1kUhU9cNu3Wd0FF1Dt9V9cVJESnrfSAiIu+kKGDx9/dHQkICMjIycPfddxuWZ2RkYPTo0Wblg4ODsW/fPpNlCxcuxM8//4z//Oc/iI2Ntfg6Qgjk5OSge/fuSqpHdSCgQimaoBRNDMsuihb6J13CHxVogjLooIIaFQiUtEhV7UepCEQVVGgmXUc4LiNWlYcWKEVH6RxaShoUiOaIVZmPNNPrrDqLzqqzeBzrAQBTfL/FFdEU16CGgFT9EBIEUPM3AN2NUf61l9Xsfs1y03+lG2VqP1/zf9T61/T1a8rXfn3T5fptWH4NS8/DTl2B6iH5lutrvk+WtqenpN7Gyy3WXZivb+19llPGUjlLda69f5aPl7zjYbwt+WUsHatan02Fnx37nxtL9bH+PCBZ/MxY3w/rz+u/X0r2gTzr6IUSJN/UyiOvrbhLaNq0aUhPT0diYiJSUlKwePFi5ObmYtKkSQCqu2rOnTuH5cuXQ6VSIT4+3mT9sLAwBAQEmCyfOXMmkpOT0bFjR2g0GixYsAA5OTn46KOP6rh7nnFzWDMcK+CdmO0phx/K4VezQAC5VeYtddbnzqv++QvBVURJF9FddRIpqgPoIR2HFn4mo6qaS1fRHFdrVuXvHlG9pbNwwVHX4FHOhYdJgF6rDjoZQReMytl73Zpy9i905ASqpsGh9fer5iLtxrJawWnllakA2jvpSCqjOGAZN24cioqKMGvWLOTl5SE+Ph5r165FTEwMACAvLw+5ubmKtnnlyhU89dRTyM/PR0hICHr27ImtW7eiT58+SqvnFf73fD+oJAmdXlvn6ao0cNVf5GI0Q7Fohv1VsVhRZd7FGCvloSmuG76e+p8A/Q0nTZcJSFLNT0hNGdNytb/yNT85puVql6lZF7XKWChnVA/j8rW3VfvnztJrWKqvZOV5q9uSLP30195f8/2yXc5y3WuvBwv1lSAMuWO2969mW+bvtZwy5uUs19naMbP+GbB/TGrKqKCze8yN62H/9a3vo6XPruXjaHldleTaTIea7bv2dWxqpBc9/9Y+6rHXVjwPi7fy1DwselnHi/DgpzsAAKfeuQMA0P7VNW6vBxGR97Af/NUOxGo6YeUF2BYDLqnmtQHLFxyWgnrrgZv1CwHjZapaQaO1wFJlWM/2a9f833a9DO+h2Wvav0izFMiqzJ6vea5V38cwYWTfOn0qanPJPCxkXUqHVvj6ySTEhjb1dFWIiLxE7XYpN/GGy3BvqIMLTPFr7bHXZsDiRKkdQj1dBSIiIpfRebBThndrdqFAPx/7hYiIiMguBiwuNOceDssmIiJyBgYsLtRUzR43IiJqODw5OIoBCxEREXk9Bixutv2VwZ6uAhERkUM8OfiJAYubRYYEeroKRERE9Q4DFjdT1aED8P6EKOdVhIiIqB5hwOJCtWOTrOlDIEmSYTpxxdtrpFNBExERMWBxk5hWTQzdQQ/0jnZoGw3jJgpERFRfcZRQI/PGnd0M/1fSasJ4hYiIPIlJt42AcVwS4OeD6SPi8Hjf9sj5a5rsbbRq5u/8ihEREcnkyRYWzmzmQt2jQqw+9/TADgCAkrIK2dt7oHc7fLLlRJ3rRUREVN+whcWFwoMD7JaRFPQJxYY2Rc5fb69LlbxGq6ZsLSIiqm/YJdSAhQT6AQBSb3bOnZybN/HHxw/3wsy7uiHURV1Et0Y3V7zOM4M6KCof0sRP8WsQETmiLtNJkCkm3TZga17oh7+O6ooZI7tYfN6Rgz88PhKPpravU71sWfBAT0XlxyZGoXUztbIXqccZxLteu83TVSAiBf5i5fe3Plv4UC+PvG5i+5YeeV2AAYvLRbVogif6xVq9EaKtHqFubYLx84sDkdY1HHtlJudO6Bcru26JMS0sLm/XqonsbegN6txaUfl6HK+gRRN2ZxHVJ72s/NbVZ7GhTT3yugM6KfutdyYGLB4W6OeDHtHNEdUiEP+d3M+w/ME+0fj8sd64qXUzLH4kUXYXSrc2wTaf/+XVIfBVSbitSzj+PSkFv79pGgh9/HCC4n2QIOGm1s2Q+eoQxesq0cLN3Uh+Po2rHfkxJ7faWQqI49va/nxaExQgb3zAJ+kJ+PekFIdew5stfSzRLa+j9lXhju6RNsv8ZWScW+riTA3xm9wl0rHvUl38/f4ebn9NYwxYPEySJHz3bCq2/nkwOoTVRMzPDb4ZYXaSdv18lB++ts0DcexvI/HZo4mQJAnBAX5of6NF5dNHEjE8PsLuNlY9k2pxeZvmgUiKlddcKGTOgte2efVke/f0aot1UwZYLffnYZ0R6Ocja5t6fezUVWeliq748dv3pvzh7baEBPo5fAuHLpFBJn/XNUfqhaEdzZb9++lU7Jg+VNb6xsfzWyufOUt6e7DJui7Sk2OsPjckLhyn3rnD5XU4PHsE/jHuVptlxvRs6/J6OGLJo4n4/LHeFp+rzy26tihpUXdUz3bNse3lwfjv5H64z8O3h2HA4gUkSYLKgawwe60hPioJCTEtcI+dH5g1L/TH/57vh9u6hNl9zb+O6oqEWlfOxt1ac+7pjpta22+q7GGU2Pv23fFY9nhvvDDkZjzet71JuS6RwTj1zh2YO/ZWRIQE4D9Wrp7lBkDPDuqAqBaBWP5EH7uJwjob25xzT3dFTaNP9rf9wxIU4JzWo3t7ReF9B6+Cau/urdF1a0YPCzbPawr094GvzJar27uGI+evt+PY2yPQMTzI/gqwHUxOGqgsMdxVWgdZzvd6a0w8XrvDdq7F7DHxZsv6d3ROQv+793YHAPj7qvDts9YDxCC1H14YcrPd7e38y1C8eWdX/PTiwDrVy1/mhVmgnw8Gx9n/DbOnZ7vmdd6Gu/xlZBfMvKsbHkmxHuw6Q3TLJjan6XAXBixeJNDPBx3DmiG6ZaCsuzr3iG6Oj8ZbT7zaMX0oVj2Tint62Y6Km6p9Ed82xOoQ60A/H2x7eTD+fn8Pi1+M5wbX/Hjd1LoZfn5xkN26z7orHs8O6oCMPw3AQ0kxGNQ5DNPSOuONO7uhqX/NlXXH8GYm6yW2b4nDs4fjwT6mtzcY2T0SQsZ1VPJNrbD9lSEY0Kk1BncOw9MDbrJa1lYM9GCfdlj+RB9s+JP1Vh9jM+7oislG79PoW9vIWs+T3rvvFofWm9gvFrPHxCMuwvEm68dS22PmXd3QvIk/fB1oSaztyOwReGV45zpvBwCm3d7J4XU3ThuA32bcZhb069nrlhvfp53J3y/e3gn/NyHJ4foYG31rzYVNr3am9esT2xIP9I7G/57vh0B/H0xLs/9ehgcH4LG+sejQuhneuae7orrs/ItRK5zca7kb5R6s9R4p2QQAtG/lmdwQR/ioJDya2h6zRpsHsg0RAxYvIkkS1k8dgM0vDYaPzBaXEUZdOLWvevRXco7cNHHlU8mG/6d0aIXolk1wX0KU2cljWLdwRLdUnqQb0sQPLw+Ps3jlbLzvz1u4klP7+mDOPTUn02m3d8JNrZuZlZPjxbTOmDSwA755Mtl+YQs6Wbny/+uorob/6wMV44BqvsKRWO5g/DkZ1i0cLe3MlfP23TU/khFG3ZdDuoThYQvdG9NHVOc+2AoEo1sG4rvn+uLNu7qhhZ3XH9Yt3OpzE42ayn1UEvx9nfdTZy2BXo6bw2y3FPn6qNDE37RrMzKk5r1VqSQ80TfW5G9n+G3GbQiw0qXaIyoE/3o6Be/cewvi2zp2lT2mZ1v0stNyYRzUmMxhJbM/R7oRljgjMP3zMNNt6KenkOOriUk48beRil7P18JxdGYu1ocP9sTJOcrq5I0YsHgZlUqSHazoy5+cMxLbXh6MP1m58rPWBG1L0k2tsO3lwZh2eyd8YKGLQd+XOXmweZ5CXRm39DTxt39ysHdiM1Z7Mj9/XxVeHRGHlA6tzMo+ZaX1xV4AGBTgiyf6xeLArGE49c4deGmYc67s9e7u2dbuXDnWEpS3vzLY4vIn+saaBBL2PjP/HN8TD/Q2v5IFqhM3LdHP7hxY64QcbtR1tO3lIbLnAbLVJfraqK7Y+9c0/O3u7tjzWvVki0omaawt9cbnI+WmVmatHNEt7beG2mMc4NZWO2dsZHf7eWZypXZohV2v3ebQb4QSAX4++PbZvjbLWPvdk9NyCtQkdDdv4o9/jDP9zWpuY2TfN08mm3VbPTf4Zhx7ewTmju2BrX8ebDVvz5L2oU0VB5Jtmpt/huIi5HWDynFnjzYOf/5rB9CexIClAZAkCdEtm0CSJAzqXN2H29Uog7xTeBBmj4nHZ48oG2kQ3bIJXhja0WJA8P59t2D/zGEu6dd09LxS+8rdOGnziyf64L17b0FnBT8C7Vo2wT/H228JMf5Cf5KeYPjxkxNsAaatZHpPD7TeVRUWrLabb7T8CfNugmZqX0S1aIKxieZdhKFBpse4ZVPbJ7BRt7SBj0pCgF/1T0hC+xaYPPhm3HFLpFl3AgCTZL1mal/ccUvNSJRBnZTlHUgS8L/n+0GSJGx72XIABlS34o1Pamd3hN36qfa79fRXzd88lWwScMVFBNlsnRtolOdk/LmOMGo1Ofr2CDxhI3my9jB6e/NgvHtvd2RY6ao0rmuXyGB8/WQyQu3MoST3c6xU7QRORxNjnxnUAfveTDPJA7u7p+m2Y0ObWg0K1X4qdLDQQuvro8I9vaLQrlUT3BzWDDeHyWvFrZ1P1/fm6mC3U7j19S395ql9TQOFwZ1by+qmDZY5ok4u45v1ehoDlgamZVN/HJg1DP99vp/J8oeTY3BbV+tN6EpJkuRw07i9pmGlYix0SY2IjzDJNRjYqTXG9o42K2eLQPXJ1R7j35ph3SIQFmR5dJecvCS9iOAAQxeKJU8P7GCSB6HvNhhx4+q7e1QI1rxg+hnQ1/Nvd9vPJ9Dn9txrJ/9p3ZQBeGFoR/xtTHe8NKwzPhrfy+KVXO2rxZHxtofO2vJpeqKhayK6VlAp9ypS36IwNjHK6pDpdi2bYNLADlj0UC+rifEfPdQLUS2aIMjK58Q4ITbY6IT65p3dMKxbOJY/0cdstN/kWt2gSgP4+xKirSYpW2pJtGb+A7ciLiIIcxTmn8g1snuEzcBcz1Y31EtpnfDK8DhZSeu2gkI5jAORHyb3tTo3Vu0Lp6cGdMB/JqVgcbq8C8ZVz6Tiu+f6mnVjfv54H4u/dbUl32T/GNtKLD4waxgeTq5pRbTU+uMpvPlhA+SqKyJnsTeKRe7v88qnknEov8RwUripdTMczNMAABY9nICVv+XWpZqAEOjfsTUGdW6N9q2aYlnmKcvFZG5uXO9onCy8in4ybtMgwbT7akK/WCzZftLwt5+PCl9NTMLkr7MxqHNr3N2zLfKKr5vkSHRrE4JnB3XAws3HTbbt66OCSrI+bBuoydP4YGwPrNpz1mq52NCmdUpCBeSfkFc/m4o/zmswtFbr0qhb2mDy19kA5I8WW/hQLxSVlmNQ59ZQ+6owsnsEVJKEzuFBOFF4FRkHLuC75/pazeNZN6U/LpZoLV6Z6/W7ORQPJcVg9pqDZs+1DlLjEysnsAEdW+O9Hw/L2o/aHkpqp6hL2ZbRt7Y1ScS1pm3zQJy7ct1k2V095CWVx8pIcB3QsTV6RDW3+v2zZmCn1thy5KKhOw+ovqC7dLXcpJzcd8v4k3VLVHMAMAw1b//qGqvrdYkIQlhwAPKLy6yWMa6DtYRsuRJiWmDDgQsWnxuf1A5f78zFn9M6Y+Hm49h+rNCsTBN/Xzwz6GZ8uaOOv58u4N1nNmpw7uzRxuaPPCD/KjnpplZIMrqaWJyegPfWHza0Dsg8dxnMHdsDH/58DCcLrxqW+agkLHu8D4Dqfm0/H8nhvmA/HxVet9AsbS1p2bj76vVRXQ0Bi8+N1w/w88Fnj9ac9CwldL48PA6fbD2BKp1AV6NJBX9+cRDW78/HnHWHAFQnLLpyroraV332Enot6dmuBXpa6G5yRBN/H/Q26opb+JCyCRO7RAaji1Ej0cT+N+EfG4+g382huDehLYZ2CTdpUQHkB1P2Jn80Voe0HKfNJ9Sqmb8hYHmibyyGxIUhsb394yQEcG9CFHadvox+N4eivEpnuZ4SMOqWSIsBS7CNZNgFD/bE2n15Jl2unz2aiHsWZtqtmzP8+peh0JRVWpxPa9NLg/D2mgPYeLAAgPWLnpBAPxRfrzDMlWXLzy8ORObxIozrHW34Xtf29ph4vDI8DiGBfmYXMvUBAxbyOm+NjsdzX++RNdeDseiWTfDhgzXdA0pPwPf0isI9vaIMV0u113d2YuI3TyZjzb7zFidYkyQJXSKD8eWEJEO+w5ShHfHD3vN4sr/9ZnRj66b0x5c7TpsMq24f2hRPD+xg9YfNFjndZHq7X7sN+ZoydGtj2qyffFNLTB58MzqGN0PW8SLFdXDU0LgwXCzV1mnItSXPD7kZAzu3RpfIILPcA6XqkhxclwDGUcZJ1v6+KvRTMC+Mn4/KMHvqv3adkbVO2+aBeGZQB/xyrBDjbHTzhgT6mQ1x9rHwBtV+v60ljdv6QZlzT3dM/3ZfdbEb5cKCAxBm5WPWqpm/rOO86pkULNp8Ai8Mtf9beFPrZobRkoM7t8amwxfNykiSJGvEk3Fw7U2zBDOHhdyi442EtTEy5h+545ZI/P5mmqy5HmyRO+tuXTn6hU7p0Aqzx3Q3BADGo170v2X9OoYakv3+dHsnbHppkKJRUUB10vWs0fE2Z05OiGlhdT+m3lYTUH37bKrNRNfaWjVTmwUrQPUP50vDOsvqclDC3klgyWO98f1zfZ3WbaKnUkm4Nbq5xWBFP7fKKzZykmyxegJF3eYMadPc9kza9vz9/h6IDW2Kd+51bL4eW60jtRknOm99eTAeTo7BoocT6hwcGpt5VzfERQRhWprlLs6RN25ZYOkePncbTc4pd1ST8ScwMab6t6r2x/LmsCB8MLYHYm4cZ7kXYZ+kJyqe+8YaTwTB1rCFhdzih8n9cPrSVdlXtrWb0x1xU+tm+OnFgQi1M+LFGv2PiLsMj4/AQ0ntsPnwRZMfQFfa/spgnC66hj6xLXH8YqnFMkPiwjBv41EA5hOK1Ud1acFwxBt3dsXTA29SlHQ9sV8sDuWX4PPHe1us74qnkpGde8VshJmc21N8PTEJX2SdqvNkY/clRCmeqr1rZDAO5GkQHOBrfq8pG2fjrpHBeLxve0QEBzg92NRv7dHU9njUxsR9LwztiK5tgu0mtSrtigaAN+7qinYtm+DOHo4noxvz91VZvFAw1j60CbYfs/xcm5BAxEUEQe3no/iWJ67EgIVcLuNPAxDo7+P0Zng57OXLWPLrjKG4UKw1yfmwZVBcGNb8nocYB+5yXdvbd3eHEMJtJ9WoFk0Q1cJ2vR35AVbiiX6xWPHbGbs33auvJElSFKwA1fPI2JJ8UyuTE+fMu7rh2+xzJrNOW5N6cyhSZSR+O8Lex/bfk1JwKF+DntEtFH3GJUlyyvBaSy8pdxSMv6/K0MriCONAS6pVl+AAP0y5zblzWulbZvVTD9T28vA4CFE9qd/9H2eZPKdSSVj7Qn9IkvsDfFsYsJBL3NYlHBsPXsDzQ26WfR8YbxEWFGB1aLIlc+7pjoR2LUzmFqkLT/1AyJ2wzdk6hQdh/8xhXjVBVX1jq3Xg9q7hOHBeY3G+H3drqvZFgsyWy8dS2+N/v5+3eVNIpYyDho3TBuJaeaVTctOMv7LW4vvWQWqMTayeLTwowM8wM68SxrMe2xPo74M/Zg6zOIsuUB0kvX1jioMukcE4mKdBVIua4M1Zsyg7k0MBy8KFC/H+++8jLy8P3bp1w7x589C/f3+76/3yyy8YOHAg4uPjkZOTY/LcqlWr8Prrr+P48ePo0KED3n77bdx9992OVI+8wD/H98S+c8UNogvBnuAAvzrP8eANukQG49tnU02m2Qfcc6fbukx3T5b9OLU/vss+j2cGdUBwgK9bAuG6vELt3I837+qGv47q6tQTZ9fIYAyJC0N4sFr2RHBK2RoN9t59jt2YVC+mVVMsfKiX7FF2chPklzyaiM9/OYlHUtrXoXaupzjpduXKlZg6dSpmzJiB7Oxs9O/fHyNGjEBuru0x28XFxXjkkUcwdKj5reWzsrIwbtw4pKenY+/evUhPT8fYsWOxc+dOpdUjLxHg54Pe7Vs6vb+ZXKtXuxZmTeRyh+OSd4mLCMarI6qHsLqr1c7ZL+Psq3xJkrD0sd4m9yJzynaNQjW53xZrExbaM7J7pKzJ4ZRo0zwQM+7o6tB94dxJccAyd+5cTJgwARMnTkSXLl0wb948REdHY9GiRTbXe/rppzF+/HikpJjf0GnevHm4/fbbMX36dMTFxWH69OkYOnQo5s2bp7R6RORkDFfIHn1XwvBuDTMPyR5HArU/D++Mnu2a430H74reGCkKWMrLy7F7926kpZlOSZyWlobMTOuT8Xz++ec4fvw43njjDYvPZ2VlmW1z2LBhNrep1Wqh0WhMHkRE5H4bpw3EtpcH1+neYs3UdR8Z6A3kNkiGBQVg9bN9cX+isluGNGaK2qQKCwtRVVWF8HDTe9KEh4cjPz/f4jpHjx7Fq6++im3btsHX1/LL5efnK9omAMyZMwczZ85UUn0icgB7hMieAD+fOncnDOsWjjt7tEGCk+815g7s+HYPhyaOq90fam0YZlVVFcaPH4+ZM2eiUyfb9xuRu0296dOno7i42PA4c0beLIlEpExdJxhzJ5446i9fHxU+fLAnHutb/xLYjXP1nD0jNtVQ1MISGhoKHx8fs5aPgoICsxYSACgpKcGuXbuQnZ2NyZMnAwB0Oh2EEPD19cWGDRswZMgQREREyN6mnlqthlrNDwaRq0WGBOKriUkOJwkSNXSSJGHzS4NQXqWTNfU9OUZRC4u/vz8SEhKQkZFhsjwjIwOpqalm5YODg7Fv3z7k5OQYHpMmTULnzp2Rk5ODpKQkAEBKSorZNjds2GBxm0Tkfn1vDjXcoZaIzLUPbYpO9WzOqfpG8SXTtGnTkJ6ejsTERKSkpGDx4sXIzc3FpEmTAFR31Zw7dw7Lly+HSqVCfLzp9M9hYWEICAgwWT5lyhQMGDAA7777LkaPHo3vv/8eGzduxPbt2+u4e0RERNQQKA5Yxo0bh6KiIsyaNQt5eXmIj4/H2rVrERNTPRthXl6e3TlZaktNTcWKFSvw2muv4fXXX0eHDh2wcuVKQwsMEZEcUS2VTYFPRPWHJBrIrFAajQYhISEoLi5GcLD771lDRJ6z+/Ql5BWXYdQt9u8GTkTeRe75m1l0RFTvyb0/DRHVXw4NayYiIiJyJwYsRERE5PUYsBAREZHXY8BCREREXo8BCxEREXk9BixERETk9RiwEBERkddjwEJERERejwELEREReT0GLEREROT1GLAQERGR12PAQkRERF6PAQsRERF5vQZzt2YhBIDq21QTERFR/aA/b+vP49Y0mIClpKQEABAdHe3hmhAREZFSJSUlCAkJsfq8JOyFNPWETqfD+fPnERQUBEmSnLZdjUaD6OhonDlzBsHBwU7brjdp6PvI/av/Gvo+cv/qv4a+j67cPyEESkpK0KZNG6hU1jNVGkwLi0qlQlRUlMu2Hxwc3CA/hMYa+j5y/+q/hr6P3L/6r6Hvo6v2z1bLih6TbomIiMjrMWAhIiIir8eAxQ61Wo033ngDarXa01VxmYa+j9y/+q+h7yP3r/5r6PvoDfvXYJJuiYiIqOFiCwsRERF5PQYsRERE5PUYsBAREZHXY8BCREREXo8Bix0LFy5EbGwsAgICkJCQgG3btnm6SmbmzJmD3r17IygoCGFhYRgzZgwOHz5sUuaxxx6DJEkmj+TkZJMyWq0Wzz//PEJDQ9G0aVPcddddOHv2rEmZy5cvIz09HSEhIQgJCUF6ejquXLni0v178803zeoeERFheF4IgTfffBNt2rRBYGAgBg0ahP3799eLfdNr37692T5KkoTnnnsOQP07flu3bsWdd96JNm3aQJIkfPfddybPu/OY5ebm4s4770TTpk0RGhqKF154AeXl5S7bv4qKCrzyyivo3r07mjZtijZt2uCRRx7B+fPnTbYxaNAgs2P6wAMPeMX+2dtHwL2fSXcfQwAWv4+SJOH99983lPHmYyjnvFDvvoeCrFqxYoXw8/MTn376qThw4ICYMmWKaNq0qTh9+rSnq2Zi2LBh4vPPPxd//PGHyMnJEXfccYdo166dKC0tNZR59NFHxfDhw0VeXp7hUVRUZLKdSZMmibZt24qMjAyxZ88eMXjwYNGjRw9RWVlpKDN8+HARHx8vMjMzRWZmpoiPjxejRo1y6f698cYbolu3biZ1LygoMDz/zjvviKCgILFq1Sqxb98+MW7cOBEZGSk0Go3X75teQUGByf5lZGQIAGLTpk1CiPp3/NauXStmzJghVq1aJQCI1atXmzzvrmNWWVkp4uPjxeDBg8WePXtERkaGaNOmjZg8ebLL9u/KlSvitttuEytXrhSHDh0SWVlZIikpSSQkJJhsY+DAgeLJJ580OaZXrlwxKeOp/bO3j0K47zPpiWMohDDZr7y8PLF06VIhSZI4fvy4oYw3H0M554X69j1kwGJDnz59xKRJk0yWxcXFiVdffdVDNZKnoKBAABBbtmwxLHv00UfF6NGjra5z5coV4efnJ1asWGFYdu7cOaFSqcSPP/4ohBDiwIEDAoDYsWOHoUxWVpYAIA4dOuT8HbnhjTfeED169LD4nE6nExEREeKdd94xLCsrKxMhISHi448/FkJ4975ZM2XKFNGhQweh0+mEEPX7+NU+GbjzmK1du1aoVCpx7tw5Q5lvvvlGqNVqUVxc7JL9s+TXX38VAEwudgYOHCimTJlidR1v2T8hLO+juz6T3nIMR48eLYYMGWKyrD4dw9rnhfr4PWSXkBXl5eXYvXs30tLSTJanpaUhMzPTQ7WSp7i4GADQsmVLk+WbN29GWFgYOnXqhCeffBIFBQWG53bv3o2KigqT/W3Tpg3i4+MN+5uVlYWQkBAkJSUZyiQnJyMkJMTl78nRo0fRpk0bxMbG4oEHHsCJEycAACdPnkR+fr5JvdVqNQYOHGiok7fvW23l5eX48ssv8cQTT5jcyLM+Hz9j7jxmWVlZiI+PR5s2bQxlhg0bBq1Wi927d7t0P40VFxdDkiQ0b97cZPlXX32F0NBQdOvWDS+99JLhrvNA/dg/d3wmPb2PAHDhwgWsWbMGEyZMMHuuvhzD2ueF+vg9bDA3P3S2wsJCVFVVITw83GR5eHg48vPzPVQr+4QQmDZtGvr164f4+HjD8hEjRuD+++9HTEwMTp48iddffx1DhgzB7t27oVarkZ+fD39/f7Ro0cJke8b7m5+fj7CwMLPXDAsLc+l7kpSUhOXLl6NTp064cOECZs+ejdTUVOzfv9/wupaO0+nTpw319tZ9s+S7777DlStX8NhjjxmW1efjV5s7j1l+fr7Z67Ro0QL+/v5u2+eysjK8+uqrGD9+vMlN4x566CHExsYiIiICf/zxB6ZPn469e/ciIyPDUHdv3j93fSa94Rh+8cUXCAoKwj333GOyvL4cQ0vnhfr4PWTAYofxFS5QfeBrL/MmkydPxu+//47t27ebLB83bpzh//Hx8UhMTERMTAzWrFlj9iU0Vnt/Le27q9+TESNGGP7fvXt3pKSkoEOHDvjiiy8MSX6OHCdv2DdLlixZghEjRphcjdTn42eNu46ZJ/e5oqICDzzwAHQ6HRYuXGjy3JNPPmn4f3x8PDp27IjExETs2bMHvXr1AuDd++fOz6SnP7dLly7FQw89hICAAJPl9eUYWjsvWHptb/4eskvIitDQUPj4+JhFfwUFBWaRord4/vnn8cMPP2DTpk2IioqyWTYyMhIxMTE4evQoACAiIgLl5eW4fPmySTnj/Y2IiMCFCxfMtnXx4kW3vidNmzZF9+7dcfToUcNoIVvHqT7t2+nTp7Fx40ZMnDjRZrn6fPzcecwiIiLMXufy5cuoqKhw+T5XVFRg7NixOHnyJDIyMkxaVyzp1asX/Pz8TI6pN+9fba76THp6H7dt24bDhw/b/U4C3nkMrZ0X6uX3UHa2SyPUp08f8cwzz5gs69Kli9cl3ep0OvHcc8+JNm3aiCNHjshap7CwUKjVavHFF18IIWqSq1auXGkoc/78eYvJVTt37jSU2bFjh9sTU8vKykTbtm3FzJkzDYlj7777ruF5rVZrMXGsPuzbG2+8ISIiIkRFRYXNcvXp+MFK0q07jpk+2e/8+fOGMitWrHB5wmZ5ebkYM2aM6Natm8mINlv27dtnkhTpLfsnhLykVFd9Jj11DPUeffRRsxFe1njTMbR3XqiP30MGLDbohzUvWbJEHDhwQEydOlU0bdpUnDp1ytNVM/HMM8+IkJAQsXnzZpPhddeuXRNCCFFSUiJefPFFkZmZKU6ePCk2bdokUlJSRNu2bc2Gr0VFRYmNGzeKPXv2iCFDhlgcvnbLLbeIrKwskZWVJbp37+7yob8vvvii2Lx5szhx4oTYsWOHGDVqlAgKCjIch3feeUeEhISIb7/9Vuzbt088+OCDFofmeeO+GauqqhLt2rUTr7zyisny+nj8SkpKRHZ2tsjOzhYAxNy5c0V2drZhlIy7jpl+OOXQoUPFnj17xMaNG0VUVFSdh4za2r+Kigpx1113iaioKJGTk2PyndRqtUIIIY4dOyZmzpwpfvvtN3Hy5EmxZs0aERcXJ3r27OkV+2dvH935mfTEMdQrLi4WTZo0EYsWLTJb39uPob3zghD173vIgMWOjz76SMTExAh/f3/Rq1cvk6HC3gKAxcfnn38uhBDi2rVrIi0tTbRu3Vr4+fmJdu3aiUcffVTk5uaabOf69eti8uTJomXLliIwMFCMGjXKrExRUZF46KGHRFBQkAgKChIPPfSQuHz5skv3Tz83gJ+fn2jTpo245557xP79+w3P63Q6Q8uEWq0WAwYMEPv27asX+2Zs/fr1AoA4fPiwyfL6ePw2bdpk8TP56KOPCiHce8xOnz4t7rjjDhEYGChatmwpJk+eLMrKyly2fydPnrT6ndTPq5ObmysGDBggWrZsKfz9/UWHDh3ECy+8YDaPiaf2z94+uvsz6e5jqPfJJ5+IwMBAs7lVhPD+Y2jvvCBE/fseSjd2jIiIiMhrMemWiIiIvB4DFiIiIvJ6DFiIiIjI6zFgISIiIq/HgIWIiIi8HgMWIiIi8noMWIiIiMjrMWAhIiIir8eAhYiIiLweAxYiIiLyegxYiIiIyOsxYCEiIiKv9/+BChKFY3sZ1QAAAABJRU5ErkJggg==",
=======
      "image/png": "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",
>>>>>>> c63aa79603675b0a537f3eaf77285b8d43277824
      "text/plain": [
       "<Figure size 640x480 with 1 Axes>"
      ]
     },
     "metadata": {},
     "output_type": "display_data"
    }
   ],
   "source": [
    "import matplotlib.pyplot as plt\n",
    "plt.plot(stepi, lossi)\n",
    "plt.plot(stepi, lossd)\n",
    "plt.show()"
   ]
  },
  {
   "cell_type": "code",
<<<<<<< HEAD
   "execution_count": 24,
=======
   "execution_count": 15,
>>>>>>> c63aa79603675b0a537f3eaf77285b8d43277824
   "metadata": {},
   "outputs": [],
   "source": [
    "# expl_count = 5\n",
    "# for i in range(expl_count):\n",
    "#     # context = [0] * 3"
   ]
  }
 ],
 "metadata": {
  "kernelspec": {
   "display_name": "danger",
   "language": "python",
   "name": "python3"
  },
  "language_info": {
   "codemirror_mode": {
    "name": "ipython",
    "version": 3
   },
   "file_extension": ".py",
   "mimetype": "text/x-python",
   "name": "python",
   "nbconvert_exporter": "python",
   "pygments_lexer": "ipython3",
   "version": "3.12.8"
  }
 },
 "nbformat": 4,
 "nbformat_minor": 2
}
