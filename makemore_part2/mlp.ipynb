{
 "cells": [
  {
   "cell_type": "code",
   "execution_count": 52,
   "metadata": {},
   "outputs": [],
   "source": [
    "import torch\n",
    "import torch.nn.functional as F\n",
    "import random"
   ]
  },
  {
   "cell_type": "code",
   "execution_count": 53,
   "metadata": {},
   "outputs": [
    {
     "name": "stdout",
     "output_type": "stream",
     "text": [
      "cpu\n"
     ]
    }
   ],
   "source": [
    "device = torch.device(\"cuda\" if torch.cuda.is_available() else \"cpu\")\n",
    "print(device)"
   ]
  },
  {
   "cell_type": "code",
   "execution_count": 54,
   "metadata": {},
   "outputs": [],
   "source": [
    "words = open('../names.txt').read().split()"
   ]
  },
  {
   "cell_type": "code",
   "execution_count": 55,
   "metadata": {},
   "outputs": [
    {
     "data": {
      "text/plain": [
       "{1: 'a',\n",
       " 2: 'b',\n",
       " 3: 'c',\n",
       " 4: 'd',\n",
       " 5: 'e',\n",
       " 6: 'f',\n",
       " 7: 'g',\n",
       " 8: 'h',\n",
       " 9: 'i',\n",
       " 10: 'j',\n",
       " 11: 'k',\n",
       " 12: 'l',\n",
       " 13: 'm',\n",
       " 14: 'n',\n",
       " 15: 'o',\n",
       " 16: 'p',\n",
       " 17: 'q',\n",
       " 18: 'r',\n",
       " 19: 's',\n",
       " 20: 't',\n",
       " 21: 'u',\n",
       " 22: 'v',\n",
       " 23: 'w',\n",
       " 24: 'x',\n",
       " 25: 'y',\n",
       " 26: 'z',\n",
       " 0: '.'}"
      ]
     },
     "execution_count": 55,
     "metadata": {},
     "output_type": "execute_result"
    }
   ],
   "source": [
    "stoi = {s: i+1 for i, s in enumerate(sorted(set(''.join(words))))}\n",
    "stoi['.'] = 0\n",
    "itos = {s: i for i, s in stoi.items()}\n",
    "itos"
   ]
  },
  {
   "cell_type": "code",
   "execution_count": 56,
   "metadata": {},
   "outputs": [
    {
     "data": {
      "text/plain": [
       "(torch.Size([182376, 3]), torch.Size([22830, 3]), torch.Size([22940, 3]))"
      ]
     },
     "execution_count": 56,
     "metadata": {},
     "output_type": "execute_result"
    }
   ],
   "source": [
    "\n",
    "def build_dataset(words: list[str]):\n",
    "    X, Y = [], []\n",
    "    context_size = 3\n",
    "    for w in words:\n",
    "        context = [0] * context_size\n",
    "        for ch in w + \".\":\n",
    "            X.append(context)\n",
    "            Y.append(stoi[ch])\n",
    "            # output = [itos[i] for i in context]\n",
    "            # print(f\"{''.join(output)} ----> {ch}\")\n",
    "            context = context[1:] + [stoi[ch]]\n",
    "    return torch.tensor(X), torch.tensor(Y)\n",
    "\n",
    "\n",
    "n1, n2 = int(0.8 * len(words)), int(0.9 * len(words))\n",
    "random.shuffle(words)\n",
    "\n",
    "X_train, Y_train = build_dataset(words=words[:n1])\n",
    "X_dev, Y_dev = build_dataset(words=words[n1:n2])\n",
    "X_test, Y_test = build_dataset(words=words[n2:])\n",
    "\n",
    "X_train, Y_train = X_train.to(device=device), Y_train.to(device=device)\n",
    "X_dev, Y_dev = X_dev.to(device=device), Y_dev.to(device=device)\n",
    "X_test, Y_test = X_test.to(device=device), Y_test.to(device=device)\n",
    "\n",
    "X_train.shape, X_dev.shape, X_test.shape"
   ]
  },
  {
   "cell_type": "code",
   "execution_count": 57,
   "metadata": {},
   "outputs": [],
   "source": [
    "g = torch.Generator(device=device).manual_seed(42)"
   ]
  },
  {
   "cell_type": "code",
   "execution_count": 58,
   "metadata": {},
   "outputs": [
    {
     "data": {
      "text/plain": [
       "torch.Size([182376, 3, 3])"
      ]
     },
     "execution_count": 58,
     "metadata": {},
     "output_type": "execute_result"
    }
   ],
   "source": [
    "C = torch.rand((27, 3), generator=g, device=device)\n",
    "emb = C[X_train]\n",
    "emb.shape"
   ]
  },
  {
   "cell_type": "code",
   "execution_count": 59,
   "metadata": {},
   "outputs": [],
   "source": [
    "C = torch.empty((27, 5), device=device).uniform_(generator=g)\n",
    "W1 = torch.empty((15, 200), device=device).uniform_(generator=g)\n",
    "b1 = torch.empty(200,  device=device).uniform_(generator=g)\n",
    "W2 = torch.empty((200, 27), device=device).uniform_(generator=g)\n",
    "b2 = torch.empty(27, device=device).uniform_(generator=g)\n",
    "parameters = [C, W1, b1, W2, b2]"
   ]
  },
  {
   "cell_type": "code",
   "execution_count": 60,
   "metadata": {},
   "outputs": [
    {
     "data": {
      "text/plain": [
       "8762"
      ]
     },
     "execution_count": 60,
     "metadata": {},
     "output_type": "execute_result"
    }
   ],
   "source": [
    "sum(p.nelement() for p in parameters)"
   ]
  },
  {
   "cell_type": "code",
   "execution_count": null,
   "metadata": {},
   "outputs": [],
   "source": [
    "for p in parameters:\n",
    "    if p.dim() >= 2:\n",
    "        torch.nn.init.kaiming_uniform_(p, generator=g)"
   ]
  },
  {
   "cell_type": "code",
   "execution_count": 65,
   "metadata": {},
   "outputs": [],
   "source": [
    "\n",
    "for p in parameters:\n",
    "\n",
    "    p.requires_grad = True"
   ]
  },
  {
   "cell_type": "code",
   "execution_count": 66,
   "metadata": {},
   "outputs": [],
   "source": [
    "def forward(inputs):\n",
    "    emb = C[inputs]\n",
    "    h = torch.tanh(emb.view(-1, 15) @ W1+b1)\n",
    "    logits = h @ W2 + b2\n",
    "    return logits"
   ]
  },
  {
   "cell_type": "code",
   "execution_count": 67,
   "metadata": {},
   "outputs": [
    {
     "data": {
      "text/plain": [
       "tensor(0.0316)"
      ]
     },
     "execution_count": 67,
     "metadata": {},
     "output_type": "execute_result"
    }
   ],
   "source": [
    "n_iter = 10000\n",
    "lre = torch.linspace(-3, 0, n_iter, device=device)\n",
    "lrs = 10**lre\n",
    "lrs[5000]"
   ]
  },
  {
   "cell_type": "code",
   "execution_count": 68,
   "metadata": {},
   "outputs": [],
   "source": [
    "stepi, lossi, lossd = [], [], []"
   ]
  },
  {
   "cell_type": "code",
   "execution_count": 69,
   "metadata": {},
   "outputs": [
    {
     "name": "stdout",
     "output_type": "stream",
     "text": [
      "step 0  train loss: 3.7004  dev loss: 3.6197 \n",
      "step 1000  train loss: 2.3096  dev loss: 2.4970 \n",
      "step 2000  train loss: 2.1621  dev loss: 2.4353 \n",
      "step 3000  train loss: 2.2441  dev loss: 2.4129 \n",
      "step 4000  train loss: 2.5045  dev loss: 2.4113 \n",
      "step 5000  train loss: 2.5595  dev loss: 2.3856 \n",
      "step 6000  train loss: 2.4346  dev loss: 2.3620 \n",
      "step 7000  train loss: 2.4390  dev loss: 2.3615 \n",
      "step 8000  train loss: 2.1394  dev loss: 2.3612 \n",
      "step 9000  train loss: 2.2277  dev loss: 2.3569 \n",
      "step 10000  train loss: 2.3055  dev loss: 2.3560 \n"
     ]
    }
   ],
   "source": [
    "n_iter = 10000\n",
    "lre = torch.linspace(-3, 0, n_iter)\n",
    "lrs = 10**lre\n",
    "\n",
    "for i in range(n_iter + 1):\n",
    "\n",
    "    # minibatch\n",
    "    ix = torch.randint(0, X_train.shape[0], (32,), device=device)\n",
    "\n",
    "    # emb = C[]\n",
    "    inputs = X_train[ix]\n",
    "    targets_training = Y_train[ix]\n",
    "    logits_train = forward(inputs)\n",
    "    loss_train = F.cross_entropy(logits_train, targets_training)\n",
    "\n",
    "    logits_dev = forward(X_dev)\n",
    "    loss_dev = F.cross_entropy(logits_dev, Y_dev)\n",
    "\n",
    "    if i % 1000 == 0:\n",
    "        print(f\"step {i}  train loss: {\n",
    "              loss_train:.4f}  dev loss: {loss_dev:.4f} \")\n",
    "\n",
    "    for p in parameters:\n",
    "        p.grad = None\n",
    "    loss_train.backward()\n",
    "\n",
    "    # updating gradient\n",
    "    # lr = lrs[i] if i < 100000 else 0.0001\n",
    "    lr = 0.1 if i < (n_iter//2) else 0.01\n",
    "    for p in parameters:\n",
    "        p.data += -lr * p.grad\n",
    "    stepi.append(i)\n",
    "    lossi.append(loss_train.log10().item())\n",
    "    lossd.append(loss_dev.log10().item())"
   ]
  },
  {
   "cell_type": "code",
   "execution_count": 70,
   "metadata": {},
   "outputs": [
    {
     "data": {
      "image/png": "[encoded data removed]",
      "text/plain": [
       "<Figure size 640x480 with 1 Axes>"
      ]
     },
     "metadata": {},
     "output_type": "display_data"
    }
   ],
   "source": [
    "import matplotlib.pyplot as plt\n",
    "plt.plot(stepi, lossi)\n",
    "plt.plot(stepi, lossd)\n",
    "plt.show()"
   ]
  },
  {
   "cell_type": "code",
   "execution_count": 71,
   "metadata": {},
   "outputs": [],
   "source": [
    "# expl_count = 5\n",
    "# for i in range(expl_count):\n",
    "#     # context = [0] * 3"
   ]
  }
 ],
 "metadata": {
  "kernelspec": {
   "display_name": "ml",
   "language": "python",
   "name": "python3"
  },
  "language_info": {
   "codemirror_mode": {
    "name": "ipython",
    "version": 3
   },
   "file_extension": ".py",
   "mimetype": "text/x-python",
   "name": "python",
   "nbconvert_exporter": "python",
   "pygments_lexer": "ipython3",
   "version": "3.12.2"
  }
 },
 "nbformat": 4,
 "nbformat_minor": 2
}
