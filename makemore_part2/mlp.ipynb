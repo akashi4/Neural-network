{
 "cells": [
  {
   "cell_type": "code",
   "execution_count": 15,
   "metadata": {},
   "outputs": [],
   "source": [
    "import torch\n",
    "import torch.nn.functional as F\n",
    "import random"
   ]
  },
  {
   "cell_type": "code",
   "execution_count": 16,
   "metadata": {},
   "outputs": [],
   "source": [
    "words = open('../names.txt').read().split()"
   ]
  },
  {
   "cell_type": "code",
   "execution_count": 17,
   "metadata": {},
   "outputs": [
    {
     "data": {
      "text/plain": [
       "{1: 'a',\n",
       " 2: 'b',\n",
       " 3: 'c',\n",
       " 4: 'd',\n",
       " 5: 'e',\n",
       " 6: 'f',\n",
       " 7: 'g',\n",
       " 8: 'h',\n",
       " 9: 'i',\n",
       " 10: 'j',\n",
       " 11: 'k',\n",
       " 12: 'l',\n",
       " 13: 'm',\n",
       " 14: 'n',\n",
       " 15: 'o',\n",
       " 16: 'p',\n",
       " 17: 'q',\n",
       " 18: 'r',\n",
       " 19: 's',\n",
       " 20: 't',\n",
       " 21: 'u',\n",
       " 22: 'v',\n",
       " 23: 'w',\n",
       " 24: 'x',\n",
       " 25: 'y',\n",
       " 26: 'z',\n",
       " 0: '.'}"
      ]
     },
     "execution_count": 17,
     "metadata": {},
     "output_type": "execute_result"
    }
   ],
   "source": [
    "stoi = {s: i+1 for i, s in enumerate(sorted(set(''.join(words))))}\n",
    "stoi['.'] = 0\n",
    "itos = {s: i for i, s in stoi.items()}\n",
    "itos"
   ]
  },
  {
   "cell_type": "code",
   "execution_count": 18,
   "metadata": {},
   "outputs": [
    {
     "data": {
      "text/plain": [
       "(torch.Size([182559, 3]), torch.Size([22762, 3]), torch.Size([22825, 3]))"
      ]
     },
     "execution_count": 18,
     "metadata": {},
     "output_type": "execute_result"
    }
   ],
   "source": [
    "\n",
    "def build_dataset(words: list[str]):\n",
    "    X, Y = [], []\n",
    "    context_size = 3\n",
    "    for w in words:\n",
    "        context = [0] * context_size\n",
    "        for ch in w + \".\":\n",
    "            X.append(context)\n",
    "            Y.append(stoi[ch])\n",
    "            # output = [itos[i] for i in context]\n",
    "            # print(f\"{''.join(output)} ----> {ch}\")\n",
    "            context = context[1:] + [stoi[ch]]\n",
    "    return torch.tensor(X), torch.tensor(Y)\n",
    "\n",
    "\n",
    "n1, n2 = int(0.8 * len(words)), int(0.9 * len(words))\n",
    "random.shuffle(words)\n",
    "\n",
    "X_train, Y_train = build_dataset(words=words[:n1])\n",
    "X_dev, Y_dev = build_dataset(words=words[n1:n2])\n",
    "X_test, Y_test = build_dataset(words=words[n2:])\n",
    "\n",
    "X_train.shape, X_dev.shape, X_test.shape"
   ]
  },
  {
   "cell_type": "code",
   "execution_count": 19,
   "metadata": {},
   "outputs": [],
   "source": [
    "g = torch.Generator().manual_seed(42)"
   ]
  },
  {
   "cell_type": "code",
   "execution_count": 20,
   "metadata": {},
   "outputs": [
    {
     "data": {
      "text/plain": [
       "torch.Size([182559, 3, 2])"
      ]
     },
     "execution_count": 20,
     "metadata": {},
     "output_type": "execute_result"
    }
   ],
   "source": [
    "C = torch.rand((27, 2), generator=g)\n",
    "emb = C[X_train]\n",
    "emb.shape"
   ]
  },
  {
   "cell_type": "code",
   "execution_count": 21,
   "metadata": {},
   "outputs": [],
   "source": [
    "C = torch.rand((27, 2), generator=g)\n",
    "W1 = torch.rand((6, 100), generator=g)\n",
    "b1 = torch.rand(100, generator=g)\n",
    "W2 = torch.rand((100, 27), generator=g)\n",
    "b2 = torch.rand(27, generator=g)\n",
    "parameters = [C, W1, b1, W2, b2]"
   ]
  },
  {
   "cell_type": "code",
   "execution_count": 22,
   "metadata": {},
   "outputs": [
    {
     "data": {
      "text/plain": [
       "3481"
      ]
     },
     "execution_count": 22,
     "metadata": {},
     "output_type": "execute_result"
    }
   ],
   "source": [
    "sum(p.nelement() for p in parameters)"
   ]
  },
  {
   "cell_type": "code",
   "execution_count": 23,
   "metadata": {},
   "outputs": [],
   "source": [
    "for p in parameters:\n",
    "    p.requires_grad = True"
   ]
  },
  {
   "cell_type": "code",
   "execution_count": null,
   "metadata": {},
   "outputs": [],
   "source": [
    "def forward(inputs):\n",
    "    emb = C[inputs]\n",
    "    h = torch.tanh(emb.view(-1, 2*3) @ W1+b1)\n",
    "    logits = h @ W2 + b2\n",
    "    return logits"
   ]
  },
  {
   "cell_type": "code",
   "execution_count": 25,
   "metadata": {},
   "outputs": [
    {
     "data": {
      "text/plain": [
       "tensor(0.0316)"
      ]
     },
     "execution_count": 25,
     "metadata": {},
     "output_type": "execute_result"
    }
   ],
   "source": [
    "n_iter = 10000\n",
    "lre = torch.linspace(-3, 0, n_iter)\n",
    "lrs = 10**lre\n",
    "lrs[5000]"
   ]
  },
  {
   "cell_type": "code",
   "execution_count": 26,
   "metadata": {},
   "outputs": [],
   "source": [
    "stepi, lossi, lossd = [], [], []"
   ]
  },
  {
   "cell_type": "code",
   "execution_count": null,
   "metadata": {},
   "outputs": [
    {
     "name": "stdout",
     "output_type": "stream",
     "text": [
      "step 0  train loss: 5.895256042480469  dev loss: 5.850549221038818 \n"
     ]
    },
    {
     "name": "stdout",
     "output_type": "stream",
     "text": [
      "step 100  train loss: 4.095420837402344  dev loss: 4.120869159698486 \n",
      "step 200  train loss: 3.462271213531494  dev loss: 3.5038352012634277 \n",
      "step 300  train loss: 3.200862169265747  dev loss: 3.2290689945220947 \n",
      "step 400  train loss: 3.067331314086914  dev loss: 3.0924489498138428 \n",
      "step 500  train loss: 2.966252326965332  dev loss: 3.016126871109009 \n",
      "step 600  train loss: 2.866832971572876  dev loss: 2.9717507362365723 \n",
      "step 700  train loss: 3.218449592590332  dev loss: 2.9435019493103027 \n",
      "step 800  train loss: 3.177321434020996  dev loss: 2.926051139831543 \n",
      "step 900  train loss: 2.555427074432373  dev loss: 2.9131245613098145 \n",
      "step 1000  train loss: 3.060896873474121  dev loss: 2.9035720825195312 \n",
      "step 1100  train loss: 2.694417715072632  dev loss: 2.895982503890991 \n",
      "step 1200  train loss: 2.7498083114624023  dev loss: 2.8902361392974854 \n",
      "step 1300  train loss: 2.9145500659942627  dev loss: 2.8848659992218018 \n",
      "step 1400  train loss: 3.0157310962677  dev loss: 2.880228042602539 \n",
      "step 1500  train loss: 2.977348566055298  dev loss: 2.8756494522094727 \n",
      "step 1600  train loss: 2.902559280395508  dev loss: 2.8705148696899414 \n",
      "step 1700  train loss: 2.6834640502929688  dev loss: 2.866536855697632 \n",
      "step 1800  train loss: 2.8141608238220215  dev loss: 2.862891912460327 \n",
      "step 1900  train loss: 2.9551572799682617  dev loss: 2.857996940612793 \n",
      "step 2000  train loss: 2.7772369384765625  dev loss: 2.8547327518463135 \n",
      "step 2100  train loss: 2.850609064102173  dev loss: 2.8490118980407715 \n",
      "step 2200  train loss: 3.0862839221954346  dev loss: 2.8449602127075195 \n",
      "step 2300  train loss: 2.8068201541900635  dev loss: 2.841330051422119 \n",
      "step 2400  train loss: 2.67445707321167  dev loss: 2.840233325958252 \n",
      "step 2500  train loss: 2.734217405319214  dev loss: 2.834702253341675 \n",
      "step 2600  train loss: 2.7229695320129395  dev loss: 2.83046555519104 \n",
      "step 2700  train loss: 2.7480506896972656  dev loss: 2.8282413482666016 \n",
      "step 2800  train loss: 2.957493543624878  dev loss: 2.828303098678589 \n",
      "step 2900  train loss: 2.932737350463867  dev loss: 2.82664155960083 \n",
      "step 3000  train loss: 2.9522993564605713  dev loss: 2.827502965927124 \n",
      "step 3100  train loss: 3.077603578567505  dev loss: 2.822869300842285 \n",
      "step 3200  train loss: 2.892282485961914  dev loss: 2.8250739574432373 \n",
      "step 3300  train loss: 2.77057147026062  dev loss: 2.8232851028442383 \n",
      "step 3400  train loss: 2.7363686561584473  dev loss: 2.821800470352173 \n",
      "step 3500  train loss: 2.94110369682312  dev loss: 2.820545196533203 \n",
      "step 3600  train loss: 2.8955631256103516  dev loss: 2.8159525394439697 \n",
      "step 3700  train loss: 2.638806104660034  dev loss: 2.8156514167785645 \n",
      "step 3800  train loss: 2.8291828632354736  dev loss: 2.8171303272247314 \n",
      "step 3900  train loss: 2.790739059448242  dev loss: 2.808363676071167 \n",
      "step 4000  train loss: 2.862300395965576  dev loss: 2.812342882156372 \n",
      "step 4100  train loss: 2.8554723262786865  dev loss: 2.8130016326904297 \n",
      "step 4200  train loss: 2.779256820678711  dev loss: 2.800149917602539 \n",
      "step 4300  train loss: 2.7257144451141357  dev loss: 2.7968921661376953 \n",
      "step 4400  train loss: 2.862539291381836  dev loss: 2.7910213470458984 \n",
      "step 4500  train loss: 2.6423392295837402  dev loss: 2.779881000518799 \n",
      "step 4600  train loss: 2.8492958545684814  dev loss: 2.7809109687805176 \n",
      "step 4700  train loss: 2.990756034851074  dev loss: 2.782266139984131 \n",
      "step 4800  train loss: 2.8620853424072266  dev loss: 2.761502265930176 \n",
      "step 4900  train loss: 2.818526268005371  dev loss: 2.753669500350952 \n",
      "step 5000  train loss: 2.806368827819824  dev loss: 2.7605302333831787 \n",
      "step 5100  train loss: 2.756248712539673  dev loss: 2.757089853286743 \n",
      "step 5200  train loss: 2.754352331161499  dev loss: 2.754201650619507 \n",
      "step 5300  train loss: 2.7368011474609375  dev loss: 2.751939058303833 \n",
      "step 5400  train loss: 2.729947566986084  dev loss: 2.7496886253356934 \n",
      "step 5500  train loss: 2.8288512229919434  dev loss: 2.7478408813476562 \n",
      "step 5600  train loss: 3.0004568099975586  dev loss: 2.746575355529785 \n",
      "step 5700  train loss: 2.8800323009490967  dev loss: 2.7452540397644043 \n",
      "step 5800  train loss: 2.6676156520843506  dev loss: 2.744076728820801 \n",
      "step 5900  train loss: 2.6568210124969482  dev loss: 2.743166923522949 \n",
      "step 6000  train loss: 2.7480616569519043  dev loss: 2.742522954940796 \n",
      "step 6100  train loss: 2.7602884769439697  dev loss: 2.7417032718658447 \n",
      "step 6200  train loss: 2.7824602127075195  dev loss: 2.741133689880371 \n",
      "step 6300  train loss: 2.7237906455993652  dev loss: 2.7405591011047363 \n",
      "step 6400  train loss: 2.81006121635437  dev loss: 2.7400403022766113 \n",
      "step 6500  train loss: 2.536634683609009  dev loss: 2.7396419048309326 \n",
      "step 6600  train loss: 2.5195116996765137  dev loss: 2.739267587661743 \n",
      "step 6700  train loss: 2.634881019592285  dev loss: 2.7390084266662598 \n",
      "step 6800  train loss: 2.7254765033721924  dev loss: 2.7386534214019775 \n",
      "step 6900  train loss: 2.520442008972168  dev loss: 2.738367795944214 \n",
      "step 7000  train loss: 2.907344341278076  dev loss: 2.738178014755249 \n",
      "step 7100  train loss: 2.754055976867676  dev loss: 2.7379214763641357 \n",
      "step 7200  train loss: 2.697985887527466  dev loss: 2.7377548217773438 \n",
      "step 7300  train loss: 2.7512643337249756  dev loss: 2.7375447750091553 \n",
      "step 7400  train loss: 2.661820888519287  dev loss: 2.737342596054077 \n",
      "step 7500  train loss: 2.81087589263916  dev loss: 2.7371790409088135 \n",
      "step 7600  train loss: 2.629307508468628  dev loss: 2.737013578414917 \n",
      "step 7700  train loss: 2.904397487640381  dev loss: 2.7368340492248535 \n",
      "step 7800  train loss: 2.9067814350128174  dev loss: 2.7366843223571777 \n",
      "step 7900  train loss: 2.5963897705078125  dev loss: 2.7365598678588867 \n",
      "step 8000  train loss: 2.920846462249756  dev loss: 2.7364044189453125 \n",
      "step 8100  train loss: 2.7896018028259277  dev loss: 2.7362914085388184 \n",
      "step 8200  train loss: 2.7816197872161865  dev loss: 2.73622465133667 \n",
      "step 8300  train loss: 2.871483564376831  dev loss: 2.736144781112671 \n",
      "step 8400  train loss: 2.927568197250366  dev loss: 2.7361159324645996 \n",
      "step 8500  train loss: 2.770768642425537  dev loss: 2.735989809036255 \n",
      "step 8600  train loss: 2.6391334533691406  dev loss: 2.7359111309051514 \n",
      "step 8700  train loss: 2.8646240234375  dev loss: 2.735846996307373 \n",
      "step 8800  train loss: 2.5595974922180176  dev loss: 2.7357380390167236 \n",
      "step 8900  train loss: 2.817779064178467  dev loss: 2.7356765270233154 \n",
      "step 9000  train loss: 2.757493495941162  dev loss: 2.73561429977417 \n",
      "step 9100  train loss: 2.592270851135254  dev loss: 2.7355730533599854 \n",
      "step 9200  train loss: 2.9148736000061035  dev loss: 2.7354989051818848 \n",
      "step 9300  train loss: 2.883934736251831  dev loss: 2.735461473464966 \n",
      "step 9400  train loss: 2.7095561027526855  dev loss: 2.7354331016540527 \n",
      "step 9500  train loss: 2.655388355255127  dev loss: 2.7353503704071045 \n",
      "step 9600  train loss: 2.6872241497039795  dev loss: 2.7353031635284424 \n",
      "step 9700  train loss: 2.6432344913482666  dev loss: 2.7352712154388428 \n",
      "step 9800  train loss: 2.8045215606689453  dev loss: 2.7352302074432373 \n",
      "step 9900  train loss: 2.494434356689453  dev loss: 2.7352051734924316 \n",
      "step 10000  train loss: 2.876044988632202  dev loss: 2.7351510524749756 \n"
     ]
    }
   ],
   "source": [
    "n_iter = 10000\n",
    "lre = torch.linspace(-3, 0, n_iter)\n",
    "lrs = 10**lre\n",
    "for i in range(n_iter + 1):\n",
    "\n",
    "    # minibatch\n",
    "    ix = torch.randint(0, X_train.shape[0], (64,))\n",
    "\n",
    "    # emb = C[]\n",
    "    inputs = X_train[ix]\n",
    "    targets_training = Y_train[ix]\n",
    "    logits_train = forward(inputs)\n",
    "    loss_train = F.cross_entropy(logits_train, targets_training)\n",
    "\n",
    "    logits_dev = forward(X_dev)\n",
    "    loss_dev = F.cross_entropy(logits_dev, Y_dev)\n",
    "\n",
    "    if i == 0 or i == n_iter or i % 100 == 0:\n",
    "        print(f\"step {i}  train loss: {loss_train}  dev loss: {loss_dev} \")\n",
    "\n",
    "    for p in parameters:\n",
    "        p.grad = None\n",
    "    loss_train.backward()\n",
    "\n",
    "    # updating gradient\n",
    "\n",
    "    lr = lrs[i] if i < 5000 else 0.0001\n",
    "    for p in parameters:\n",
    "        p.data += -lr * p.grad\n",
    "    stepi.append(i)\n",
    "    lossi.append(loss_train.log10().item())\n",
    "    lossd.append(loss_dev.log10().item())"
   ]
  },
  {
   "cell_type": "code",
   "execution_count": 28,
   "metadata": {},
   "outputs": [
    {
     "data": {
      "image/png": "[encoded data removed]",
      "text/plain": [
       "<Figure size 640x480 with 1 Axes>"
      ]
     },
     "metadata": {},
     "output_type": "display_data"
    }
   ],
   "source": [
    "import matplotlib.pyplot as plt\n",
    "plt.plot(stepi, lossi)\n",
    "plt.plot(stepi, lossd)\n",
    "plt.show()"
   ]
  },
  {
   "cell_type": "code",
   "execution_count": null,
   "metadata": {},
   "outputs": [],
   "source": [
    "# expl_count = 5\n",
    "# for i in range(expl_count):\n",
    "#     # context = [0] * 3"
   ]
  }
 ],
 "metadata": {
  "kernelspec": {
   "display_name": "ml",
   "language": "python",
   "name": "python3"
  },
  "language_info": {
   "codemirror_mode": {
    "name": "ipython",
    "version": 3
   },
   "file_extension": ".py",
   "mimetype": "text/x-python",
   "name": "python",
   "nbconvert_exporter": "python",
   "pygments_lexer": "ipython3",
   "version": "3.12.2"
  }
 },
 "nbformat": 4,
 "nbformat_minor": 2
}
